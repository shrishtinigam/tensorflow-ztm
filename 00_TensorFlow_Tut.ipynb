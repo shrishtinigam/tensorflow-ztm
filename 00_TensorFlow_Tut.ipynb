{
  "nbformat": 4,
  "nbformat_minor": 0,
  "metadata": {
    "colab": {
      "provenance": [],
      "authorship_tag": "ABX9TyPl8fS9qm5thRWqV9/nN7N0",
      "include_colab_link": true
    },
    "kernelspec": {
      "name": "python3",
      "display_name": "Python 3"
    },
    "language_info": {
      "name": "python"
    }
  },
  "cells": [
    {
      "cell_type": "markdown",
      "metadata": {
        "id": "view-in-github",
        "colab_type": "text"
      },
      "source": [
        "<a href=\"https://colab.research.google.com/github/shrishtinigam/tensorflow-ztm/blob/main/00_TensorFlow_Tut.ipynb\" target=\"_parent\"><img src=\"https://colab.research.google.com/assets/colab-badge.svg\" alt=\"Open In Colab\"/></a>"
      ]
    },
    {
      "cell_type": "markdown",
      "source": [
        "### https://github.com/mrdbourke/tensorflow-deep-learning/blob/main/00_tensorflow_fundamentals.ipynb"
      ],
      "metadata": {
        "id": "ih57U0oIEvkL"
      }
    },
    {
      "cell_type": "code",
      "execution_count": 1,
      "metadata": {
        "colab": {
          "base_uri": "https://localhost:8080/"
        },
        "id": "ksEpEPGY4IiP",
        "outputId": "d88eb757-25e1-4e27-ce0e-a20ddd6830a1"
      },
      "outputs": [
        {
          "output_type": "stream",
          "name": "stdout",
          "text": [
            "2.13.0\n"
          ]
        }
      ],
      "source": [
        "# Import TensorFlow\n",
        "import tensorflow as tf\n",
        "\n",
        "print(tf.__version__)"
      ]
    },
    {
      "cell_type": "code",
      "source": [
        "# Create tensors with tf.constant()\n",
        "scalar = tf.constant(7)\n",
        "scalar"
      ],
      "metadata": {
        "colab": {
          "base_uri": "https://localhost:8080/"
        },
        "id": "F0cHb1nb4Teb",
        "outputId": "442975ab-ed11-4ac2-b363-e9a21f7ada10"
      },
      "execution_count": 2,
      "outputs": [
        {
          "output_type": "execute_result",
          "data": {
            "text/plain": [
              "<tf.Tensor: shape=(), dtype=int32, numpy=7>"
            ]
          },
          "metadata": {},
          "execution_count": 2
        }
      ]
    },
    {
      "cell_type": "code",
      "source": [
        "# Number of dimensions\n",
        "scalar.ndim"
      ],
      "metadata": {
        "colab": {
          "base_uri": "https://localhost:8080/"
        },
        "id": "P_b4cwF27rUv",
        "outputId": "9373ae7f-05e8-42a9-ebb9-9999ebfd36d8"
      },
      "execution_count": 3,
      "outputs": [
        {
          "output_type": "execute_result",
          "data": {
            "text/plain": [
              "0"
            ]
          },
          "metadata": {},
          "execution_count": 3
        }
      ]
    },
    {
      "cell_type": "code",
      "source": [
        "# Create a vector\n",
        "vector = tf.constant([10, 10])\n",
        "vector"
      ],
      "metadata": {
        "colab": {
          "base_uri": "https://localhost:8080/"
        },
        "id": "X_eS4G1h7reO",
        "outputId": "5e9aa7be-2673-4531-88c6-a0289284c501"
      },
      "execution_count": 4,
      "outputs": [
        {
          "output_type": "execute_result",
          "data": {
            "text/plain": [
              "<tf.Tensor: shape=(2,), dtype=int32, numpy=array([10, 10], dtype=int32)>"
            ]
          },
          "metadata": {},
          "execution_count": 4
        }
      ]
    },
    {
      "cell_type": "code",
      "source": [
        "vector.ndim"
      ],
      "metadata": {
        "colab": {
          "base_uri": "https://localhost:8080/"
        },
        "id": "4twBSTPM84L2",
        "outputId": "8aa09ae8-2393-43d0-a039-5fc66c0f96d7"
      },
      "execution_count": 5,
      "outputs": [
        {
          "output_type": "execute_result",
          "data": {
            "text/plain": [
              "1"
            ]
          },
          "metadata": {},
          "execution_count": 5
        }
      ]
    },
    {
      "cell_type": "code",
      "source": [
        "# Create a matrix\n",
        "matrix = tf.constant([[5, 9],[9, 5]])\n",
        "matrix"
      ],
      "metadata": {
        "colab": {
          "base_uri": "https://localhost:8080/"
        },
        "id": "1n0dhPD284S5",
        "outputId": "da6dc264-5010-4067-8f96-f72c0486734c"
      },
      "execution_count": 6,
      "outputs": [
        {
          "output_type": "execute_result",
          "data": {
            "text/plain": [
              "<tf.Tensor: shape=(2, 2), dtype=int32, numpy=\n",
              "array([[5, 9],\n",
              "       [9, 5]], dtype=int32)>"
            ]
          },
          "metadata": {},
          "execution_count": 6
        }
      ]
    },
    {
      "cell_type": "code",
      "source": [
        "matrix.ndim"
      ],
      "metadata": {
        "colab": {
          "base_uri": "https://localhost:8080/"
        },
        "id": "Ekt5TyLG84ce",
        "outputId": "0a945f31-6d90-4284-b68b-19fbe005fe68"
      },
      "execution_count": 7,
      "outputs": [
        {
          "output_type": "execute_result",
          "data": {
            "text/plain": [
              "2"
            ]
          },
          "metadata": {},
          "execution_count": 7
        }
      ]
    },
    {
      "cell_type": "code",
      "source": [
        "# Create another matrix\n",
        "another_matrix = tf.constant([[10.2, 4.2, 9.2],[3.6,3.3,2.0],[3.4,4.3,8.5]], dtype=tf.float16)\n",
        "another_matrix"
      ],
      "metadata": {
        "colab": {
          "base_uri": "https://localhost:8080/"
        },
        "id": "Q0hSHfrq84qe",
        "outputId": "b4559520-658b-4cc7-fbc6-b05f28eaa28a"
      },
      "execution_count": 8,
      "outputs": [
        {
          "output_type": "execute_result",
          "data": {
            "text/plain": [
              "<tf.Tensor: shape=(3, 3), dtype=float16, numpy=\n",
              "array([[10.2,  4.2,  9.2],\n",
              "       [ 3.6,  3.3,  2. ],\n",
              "       [ 3.4,  4.3,  8.5]], dtype=float16)>"
            ]
          },
          "metadata": {},
          "execution_count": 8
        }
      ]
    },
    {
      "cell_type": "code",
      "source": [
        "another_matrix.ndim"
      ],
      "metadata": {
        "colab": {
          "base_uri": "https://localhost:8080/"
        },
        "id": "4Pqn-_Sr84ye",
        "outputId": "4adbec95-8762-415b-86ed-4f2781813a89"
      },
      "execution_count": 9,
      "outputs": [
        {
          "output_type": "execute_result",
          "data": {
            "text/plain": [
              "2"
            ]
          },
          "metadata": {},
          "execution_count": 9
        }
      ]
    },
    {
      "cell_type": "code",
      "source": [
        "# Create a tensor\n",
        "tensor = tf.constant([[[1,2,3],[4,5,6]],[[7,8,9],[10,11,12]],[[13,14,15],[16,17,18]]])\n",
        "tensor"
      ],
      "metadata": {
        "colab": {
          "base_uri": "https://localhost:8080/"
        },
        "id": "y0Zo6K4--l-x",
        "outputId": "4885a7f1-ea0d-4a54-efe2-2be7cbe8d4ac"
      },
      "execution_count": 10,
      "outputs": [
        {
          "output_type": "execute_result",
          "data": {
            "text/plain": [
              "<tf.Tensor: shape=(3, 2, 3), dtype=int32, numpy=\n",
              "array([[[ 1,  2,  3],\n",
              "        [ 4,  5,  6]],\n",
              "\n",
              "       [[ 7,  8,  9],\n",
              "        [10, 11, 12]],\n",
              "\n",
              "       [[13, 14, 15],\n",
              "        [16, 17, 18]]], dtype=int32)>"
            ]
          },
          "metadata": {},
          "execution_count": 10
        }
      ]
    },
    {
      "cell_type": "code",
      "source": [
        "tensor.ndim"
      ],
      "metadata": {
        "colab": {
          "base_uri": "https://localhost:8080/"
        },
        "id": "kbIFqJLZ_int",
        "outputId": "2b63496e-f79b-4164-8b6e-ebe8934f2144"
      },
      "execution_count": 11,
      "outputs": [
        {
          "output_type": "execute_result",
          "data": {
            "text/plain": [
              "3"
            ]
          },
          "metadata": {},
          "execution_count": 11
        }
      ]
    },
    {
      "cell_type": "markdown",
      "source": [
        "Tensor: An n-dim array of numbers"
      ],
      "metadata": {
        "id": "7dPaGZ0Y_pct"
      }
    },
    {
      "cell_type": "markdown",
      "source": [
        "Creating tensors with tf.Variable"
      ],
      "metadata": {
        "id": "-i6vT0RGAEcU"
      }
    },
    {
      "cell_type": "code",
      "source": [
        "changeable_tensor = tf.Variable([10,7])\n",
        "unchangeable_tensor = tf.constant([10,7])\n",
        "changeable_tensor, unchangeable_tensor"
      ],
      "metadata": {
        "colab": {
          "base_uri": "https://localhost:8080/"
        },
        "id": "PfgjArzg_kKW",
        "outputId": "cd2812e5-7429-4080-d20c-82f9aa105acc"
      },
      "execution_count": 12,
      "outputs": [
        {
          "output_type": "execute_result",
          "data": {
            "text/plain": [
              "(<tf.Variable 'Variable:0' shape=(2,) dtype=int32, numpy=array([10,  7], dtype=int32)>,\n",
              " <tf.Tensor: shape=(2,), dtype=int32, numpy=array([10,  7], dtype=int32)>)"
            ]
          },
          "metadata": {},
          "execution_count": 12
        }
      ]
    },
    {
      "cell_type": "code",
      "source": [
        "#changeable_tensor[0] = 7"
      ],
      "metadata": {
        "id": "Vl41rv2bDyg3"
      },
      "execution_count": 14,
      "outputs": []
    },
    {
      "cell_type": "code",
      "source": [
        "changeable_tensor[0].assign(7)"
      ],
      "metadata": {
        "colab": {
          "base_uri": "https://localhost:8080/"
        },
        "id": "nyFbzxbxDynl",
        "outputId": "1c65df56-842c-4385-9d81-40788ea94298"
      },
      "execution_count": 15,
      "outputs": [
        {
          "output_type": "execute_result",
          "data": {
            "text/plain": [
              "<tf.Variable 'UnreadVariable' shape=(2,) dtype=int32, numpy=array([7, 7], dtype=int32)>"
            ]
          },
          "metadata": {},
          "execution_count": 15
        }
      ]
    },
    {
      "cell_type": "code",
      "source": [
        "#unchangeable_tensor[0] = 7"
      ],
      "metadata": {
        "id": "Dt9lVDpJEAFN"
      },
      "execution_count": 17,
      "outputs": []
    },
    {
      "cell_type": "code",
      "source": [
        "#unchangeable_tensor[0].assign(7)"
      ],
      "metadata": {
        "id": "LOKVdmJxEAIq"
      },
      "execution_count": 19,
      "outputs": []
    },
    {
      "cell_type": "markdown",
      "source": [
        "### Creating random tensors\n",
        "Arbitary size, containing random numbers"
      ],
      "metadata": {
        "id": "MlBY3EPAEZJO"
      }
    },
    {
      "cell_type": "code",
      "source": [
        "random_1 = tf.random.Generator.from_seed(42) # set seed for reproducibility\n",
        "random_1 = random_1.normal(shape=(3,2))\n",
        "random_1"
      ],
      "metadata": {
        "colab": {
          "base_uri": "https://localhost:8080/"
        },
        "id": "I6GvKgaXEGhr",
        "outputId": "a51db411-4182-4a5c-bed7-e57a5db8cc83"
      },
      "execution_count": 21,
      "outputs": [
        {
          "output_type": "execute_result",
          "data": {
            "text/plain": [
              "<tf.Tensor: shape=(3, 2), dtype=float32, numpy=\n",
              "array([[-0.7565803 , -0.06854702],\n",
              "       [ 0.07595026, -1.2573844 ],\n",
              "       [-0.23193763, -1.8107855 ]], dtype=float32)>"
            ]
          },
          "metadata": {},
          "execution_count": 21
        }
      ]
    },
    {
      "cell_type": "code",
      "source": [
        "random_2 = tf.random.Generator.from_seed(42)\n",
        "random_2 = random_2.normal(shape=(3,2))\n",
        "random_2"
      ],
      "metadata": {
        "colab": {
          "base_uri": "https://localhost:8080/"
        },
        "id": "LIP5mkWrHPoT",
        "outputId": "270a11a6-edc3-4e35-83e3-bea261d68431"
      },
      "execution_count": 22,
      "outputs": [
        {
          "output_type": "execute_result",
          "data": {
            "text/plain": [
              "<tf.Tensor: shape=(3, 2), dtype=float32, numpy=\n",
              "array([[-0.7565803 , -0.06854702],\n",
              "       [ 0.07595026, -1.2573844 ],\n",
              "       [-0.23193763, -1.8107855 ]], dtype=float32)>"
            ]
          },
          "metadata": {},
          "execution_count": 22
        }
      ]
    },
    {
      "cell_type": "code",
      "source": [
        "random_1, random_2, random_1 == random_2"
      ],
      "metadata": {
        "colab": {
          "base_uri": "https://localhost:8080/"
        },
        "id": "1sY8V5_JHm6F",
        "outputId": "5316c892-5cc5-4455-b768-365a8606ffc2"
      },
      "execution_count": 23,
      "outputs": [
        {
          "output_type": "execute_result",
          "data": {
            "text/plain": [
              "(<tf.Tensor: shape=(3, 2), dtype=float32, numpy=\n",
              " array([[-0.7565803 , -0.06854702],\n",
              "        [ 0.07595026, -1.2573844 ],\n",
              "        [-0.23193763, -1.8107855 ]], dtype=float32)>,\n",
              " <tf.Tensor: shape=(3, 2), dtype=float32, numpy=\n",
              " array([[-0.7565803 , -0.06854702],\n",
              "        [ 0.07595026, -1.2573844 ],\n",
              "        [-0.23193763, -1.8107855 ]], dtype=float32)>,\n",
              " <tf.Tensor: shape=(3, 2), dtype=bool, numpy=\n",
              " array([[ True,  True],\n",
              "        [ True,  True],\n",
              "        [ True,  True]])>)"
            ]
          },
          "metadata": {},
          "execution_count": 23
        }
      ]
    },
    {
      "cell_type": "markdown",
      "source": [
        "Shuffling the order of tensors"
      ],
      "metadata": {
        "id": "hcs7nN-wH9B0"
      }
    },
    {
      "cell_type": "code",
      "source": [
        "not_shuffled = tf.constant([[10, 7],[3, 4],[2, 5]])\n",
        "not_shuffled"
      ],
      "metadata": {
        "colab": {
          "base_uri": "https://localhost:8080/"
        },
        "id": "DJSZdMvEHxG_",
        "outputId": "1ffa9759-635d-4c26-9064-96b624319051"
      },
      "execution_count": 24,
      "outputs": [
        {
          "output_type": "execute_result",
          "data": {
            "text/plain": [
              "<tf.Tensor: shape=(3, 2), dtype=int32, numpy=\n",
              "array([[10,  7],\n",
              "       [ 3,  4],\n",
              "       [ 2,  5]], dtype=int32)>"
            ]
          },
          "metadata": {},
          "execution_count": 24
        }
      ]
    },
    {
      "cell_type": "markdown",
      "source": [
        "It's due to rule #4 of the tf.random.set_seed() documentation.\n",
        "\n",
        "\"4. If both the global and the operation seed are set: Both seeds are used in conjunction to determine the random sequence.\""
      ],
      "metadata": {
        "id": "JSxqRqTBguv4"
      }
    },
    {
      "cell_type": "code",
      "source": [
        "tf.random.set_seed(62)\n",
        "tf.random.shuffle(not_shuffled, seed=62) # randomly shuffles along first dimension"
      ],
      "metadata": {
        "colab": {
          "base_uri": "https://localhost:8080/"
        },
        "id": "-EXOQmViHxSh",
        "outputId": "2a774f36-6a67-4222-954c-cefec5a454cc"
      },
      "execution_count": 25,
      "outputs": [
        {
          "output_type": "execute_result",
          "data": {
            "text/plain": [
              "<tf.Tensor: shape=(3, 2), dtype=int32, numpy=\n",
              "array([[ 2,  5],\n",
              "       [10,  7],\n",
              "       [ 3,  4]], dtype=int32)>"
            ]
          },
          "metadata": {},
          "execution_count": 25
        }
      ]
    },
    {
      "cell_type": "markdown",
      "source": [
        "https://www.tensorflow.org/api_docs/python/tf/random/set_seed"
      ],
      "metadata": {
        "id": "QKMGKSg_JMKE"
      }
    },
    {
      "cell_type": "markdown",
      "source": [
        "Other ways to make tensors"
      ],
      "metadata": {
        "id": "RUgjarrAMY9i"
      }
    },
    {
      "cell_type": "code",
      "source": [
        "tf.ones([3,2])"
      ],
      "metadata": {
        "colab": {
          "base_uri": "https://localhost:8080/"
        },
        "id": "mt6-Q5xnJLNE",
        "outputId": "87841fc3-33aa-4be3-96ad-c1b672095eda"
      },
      "execution_count": 26,
      "outputs": [
        {
          "output_type": "execute_result",
          "data": {
            "text/plain": [
              "<tf.Tensor: shape=(3, 2), dtype=float32, numpy=\n",
              "array([[1., 1.],\n",
              "       [1., 1.],\n",
              "       [1., 1.]], dtype=float32)>"
            ]
          },
          "metadata": {},
          "execution_count": 26
        }
      ]
    },
    {
      "cell_type": "code",
      "source": [
        "tf.zeros(shape=(2,8))"
      ],
      "metadata": {
        "colab": {
          "base_uri": "https://localhost:8080/"
        },
        "id": "UKdsa7RkJLTe",
        "outputId": "031e52b2-9929-4ed4-adf1-2324fb4ccea8"
      },
      "execution_count": 27,
      "outputs": [
        {
          "output_type": "execute_result",
          "data": {
            "text/plain": [
              "<tf.Tensor: shape=(2, 8), dtype=float32, numpy=\n",
              "array([[0., 0., 0., 0., 0., 0., 0., 0.],\n",
              "       [0., 0., 0., 0., 0., 0., 0., 0.]], dtype=float32)>"
            ]
          },
          "metadata": {},
          "execution_count": 27
        }
      ]
    },
    {
      "cell_type": "markdown",
      "source": [
        "Create NumPy arrays into tf tensors"
      ],
      "metadata": {
        "id": "4TuaptqfMtal"
      }
    },
    {
      "cell_type": "code",
      "source": [
        "import numpy as np\n",
        "numpy_A = np.arange(1, 25, dtype=np.int32)\n",
        "numpy_A"
      ],
      "metadata": {
        "colab": {
          "base_uri": "https://localhost:8080/"
        },
        "id": "lIqaV0I1Mwif",
        "outputId": "dadc07cc-1f91-42eb-bc1a-563c5b65d093"
      },
      "execution_count": 28,
      "outputs": [
        {
          "output_type": "execute_result",
          "data": {
            "text/plain": [
              "array([ 1,  2,  3,  4,  5,  6,  7,  8,  9, 10, 11, 12, 13, 14, 15, 16, 17,\n",
              "       18, 19, 20, 21, 22, 23, 24], dtype=int32)"
            ]
          },
          "metadata": {},
          "execution_count": 28
        }
      ]
    },
    {
      "cell_type": "code",
      "source": [
        "a = tf.constant(numpy_A)\n",
        "b = tf.constant(numpy_A, shape=(2, 3, 4))"
      ],
      "metadata": {
        "id": "dRsZ0GKHNbc2"
      },
      "execution_count": 29,
      "outputs": []
    },
    {
      "cell_type": "code",
      "source": [
        "a, b"
      ],
      "metadata": {
        "colab": {
          "base_uri": "https://localhost:8080/"
        },
        "id": "ic-vo97oNvyh",
        "outputId": "cbf78708-9286-4363-aec1-00c515a96f46"
      },
      "execution_count": 30,
      "outputs": [
        {
          "output_type": "execute_result",
          "data": {
            "text/plain": [
              "(<tf.Tensor: shape=(24,), dtype=int32, numpy=\n",
              " array([ 1,  2,  3,  4,  5,  6,  7,  8,  9, 10, 11, 12, 13, 14, 15, 16, 17,\n",
              "        18, 19, 20, 21, 22, 23, 24], dtype=int32)>,\n",
              " <tf.Tensor: shape=(2, 3, 4), dtype=int32, numpy=\n",
              " array([[[ 1,  2,  3,  4],\n",
              "         [ 5,  6,  7,  8],\n",
              "         [ 9, 10, 11, 12]],\n",
              " \n",
              "        [[13, 14, 15, 16],\n",
              "         [17, 18, 19, 20],\n",
              "         [21, 22, 23, 24]]], dtype=int32)>)"
            ]
          },
          "metadata": {},
          "execution_count": 30
        }
      ]
    },
    {
      "cell_type": "markdown",
      "source": [
        "Getting information from tensors\n",
        "* shape - tensor.shape\n",
        "* rank - tensor.ndim\n",
        "* axis/dimension - tensor[0], tensor[:,1]. ..\n",
        "* size - tf.size(tensor)\n"
      ],
      "metadata": {
        "id": "ybSsJfc2UfXZ"
      }
    },
    {
      "cell_type": "code",
      "source": [
        "# Create a rank 4 tensor\n",
        "\n",
        "rank_4_tensor = tf.zeros(shape=(2,3,4,5))\n",
        "rank_4_tensor"
      ],
      "metadata": {
        "colab": {
          "base_uri": "https://localhost:8080/"
        },
        "id": "Cm9ms15jUzxd",
        "outputId": "f3d7c88a-91da-4d6b-a9dd-f2d783e0733a"
      },
      "execution_count": 31,
      "outputs": [
        {
          "output_type": "execute_result",
          "data": {
            "text/plain": [
              "<tf.Tensor: shape=(2, 3, 4, 5), dtype=float32, numpy=\n",
              "array([[[[0., 0., 0., 0., 0.],\n",
              "         [0., 0., 0., 0., 0.],\n",
              "         [0., 0., 0., 0., 0.],\n",
              "         [0., 0., 0., 0., 0.]],\n",
              "\n",
              "        [[0., 0., 0., 0., 0.],\n",
              "         [0., 0., 0., 0., 0.],\n",
              "         [0., 0., 0., 0., 0.],\n",
              "         [0., 0., 0., 0., 0.]],\n",
              "\n",
              "        [[0., 0., 0., 0., 0.],\n",
              "         [0., 0., 0., 0., 0.],\n",
              "         [0., 0., 0., 0., 0.],\n",
              "         [0., 0., 0., 0., 0.]]],\n",
              "\n",
              "\n",
              "       [[[0., 0., 0., 0., 0.],\n",
              "         [0., 0., 0., 0., 0.],\n",
              "         [0., 0., 0., 0., 0.],\n",
              "         [0., 0., 0., 0., 0.]],\n",
              "\n",
              "        [[0., 0., 0., 0., 0.],\n",
              "         [0., 0., 0., 0., 0.],\n",
              "         [0., 0., 0., 0., 0.],\n",
              "         [0., 0., 0., 0., 0.]],\n",
              "\n",
              "        [[0., 0., 0., 0., 0.],\n",
              "         [0., 0., 0., 0., 0.],\n",
              "         [0., 0., 0., 0., 0.],\n",
              "         [0., 0., 0., 0., 0.]]]], dtype=float32)>"
            ]
          },
          "metadata": {},
          "execution_count": 31
        }
      ]
    },
    {
      "cell_type": "code",
      "source": [
        "rank_4_tensor[0]"
      ],
      "metadata": {
        "colab": {
          "base_uri": "https://localhost:8080/"
        },
        "id": "YKPk-Xj2ViaF",
        "outputId": "afdeefd4-0715-41a3-a768-e946f34593e4"
      },
      "execution_count": 32,
      "outputs": [
        {
          "output_type": "execute_result",
          "data": {
            "text/plain": [
              "<tf.Tensor: shape=(3, 4, 5), dtype=float32, numpy=\n",
              "array([[[0., 0., 0., 0., 0.],\n",
              "        [0., 0., 0., 0., 0.],\n",
              "        [0., 0., 0., 0., 0.],\n",
              "        [0., 0., 0., 0., 0.]],\n",
              "\n",
              "       [[0., 0., 0., 0., 0.],\n",
              "        [0., 0., 0., 0., 0.],\n",
              "        [0., 0., 0., 0., 0.],\n",
              "        [0., 0., 0., 0., 0.]],\n",
              "\n",
              "       [[0., 0., 0., 0., 0.],\n",
              "        [0., 0., 0., 0., 0.],\n",
              "        [0., 0., 0., 0., 0.],\n",
              "        [0., 0., 0., 0., 0.]]], dtype=float32)>"
            ]
          },
          "metadata": {},
          "execution_count": 32
        }
      ]
    },
    {
      "cell_type": "code",
      "source": [
        "rank_4_tensor.shape, rank_4_tensor.ndim"
      ],
      "metadata": {
        "colab": {
          "base_uri": "https://localhost:8080/"
        },
        "id": "7SbOpzl2VjG9",
        "outputId": "c97c3efc-7b9f-46e2-e032-299ecdebc364"
      },
      "execution_count": 33,
      "outputs": [
        {
          "output_type": "execute_result",
          "data": {
            "text/plain": [
              "(TensorShape([2, 3, 4, 5]), 4)"
            ]
          },
          "metadata": {},
          "execution_count": 33
        }
      ]
    },
    {
      "cell_type": "code",
      "source": [
        "tf.size(rank_4_tensor)"
      ],
      "metadata": {
        "colab": {
          "base_uri": "https://localhost:8080/"
        },
        "id": "qDUr9W95VjJn",
        "outputId": "0542c3cc-9f8a-4076-f3fe-c1b7ae1379f0"
      },
      "execution_count": 34,
      "outputs": [
        {
          "output_type": "execute_result",
          "data": {
            "text/plain": [
              "<tf.Tensor: shape=(), dtype=int32, numpy=120>"
            ]
          },
          "metadata": {},
          "execution_count": 34
        }
      ]
    },
    {
      "cell_type": "code",
      "source": [
        "# Get various attributes of tensor\n",
        "print(\"Datatype of every element:\", rank_4_tensor.dtype)\n",
        "print(\"Number of dimensions (rank):\", rank_4_tensor.ndim)\n",
        "print(\"Shape of tensor:\", rank_4_tensor.shape)\n",
        "print(\"Elements along axis 0 of tensor:\", rank_4_tensor.shape[0])\n",
        "print(\"Elements along last axis of tensor:\", rank_4_tensor.shape[-1])\n",
        "print(\"Total number of elements (2*3*4*5):\", tf.size(rank_4_tensor))\n",
        "print(\"Total number of elements (2*3*4*5):\", tf.size(rank_4_tensor).numpy()) # .numpy() converts to NumPy array"
      ],
      "metadata": {
        "colab": {
          "base_uri": "https://localhost:8080/"
        },
        "id": "dNPJkXFHXAxh",
        "outputId": "77cc3468-a655-4a07-a142-7cdef1129c5e"
      },
      "execution_count": 35,
      "outputs": [
        {
          "output_type": "stream",
          "name": "stdout",
          "text": [
            "Datatype of every element: <dtype: 'float32'>\n",
            "Number of dimensions (rank): 4\n",
            "Shape of tensor: (2, 3, 4, 5)\n",
            "Elements along axis 0 of tensor: 2\n",
            "Elements along last axis of tensor: 5\n",
            "Total number of elements (2*3*4*5): tf.Tensor(120, shape=(), dtype=int32)\n",
            "Total number of elements (2*3*4*5): 120\n"
          ]
        }
      ]
    },
    {
      "cell_type": "markdown",
      "source": [
        "Indexing and Expanding"
      ],
      "metadata": {
        "id": "OMndGiu1YCkQ"
      }
    },
    {
      "cell_type": "code",
      "source": [
        "rank_4_tensor[:2, :2, :2, :2]"
      ],
      "metadata": {
        "colab": {
          "base_uri": "https://localhost:8080/"
        },
        "id": "6G1RQu8AXgTu",
        "outputId": "d6ca4b30-3bac-4e8f-db45-6b059995e92b"
      },
      "execution_count": 36,
      "outputs": [
        {
          "output_type": "execute_result",
          "data": {
            "text/plain": [
              "<tf.Tensor: shape=(2, 2, 2, 2), dtype=float32, numpy=\n",
              "array([[[[0., 0.],\n",
              "         [0., 0.]],\n",
              "\n",
              "        [[0., 0.],\n",
              "         [0., 0.]]],\n",
              "\n",
              "\n",
              "       [[[0., 0.],\n",
              "         [0., 0.]],\n",
              "\n",
              "        [[0., 0.],\n",
              "         [0., 0.]]]], dtype=float32)>"
            ]
          },
          "metadata": {},
          "execution_count": 36
        }
      ]
    },
    {
      "cell_type": "markdown",
      "source": [
        "Rank 4 tensor A"
      ],
      "metadata": {
        "id": "Eglwk3eDa0rj"
      }
    },
    {
      "cell_type": "code",
      "source": [
        "numpy_A = np.arange(0, 120, dtype=np.int32)\n",
        "numpy_A"
      ],
      "metadata": {
        "colab": {
          "base_uri": "https://localhost:8080/"
        },
        "id": "aj8PbcayYFNW",
        "outputId": "7444a3b1-4723-4fed-b403-ed248bacdd6c"
      },
      "execution_count": 37,
      "outputs": [
        {
          "output_type": "execute_result",
          "data": {
            "text/plain": [
              "array([  0,   1,   2,   3,   4,   5,   6,   7,   8,   9,  10,  11,  12,\n",
              "        13,  14,  15,  16,  17,  18,  19,  20,  21,  22,  23,  24,  25,\n",
              "        26,  27,  28,  29,  30,  31,  32,  33,  34,  35,  36,  37,  38,\n",
              "        39,  40,  41,  42,  43,  44,  45,  46,  47,  48,  49,  50,  51,\n",
              "        52,  53,  54,  55,  56,  57,  58,  59,  60,  61,  62,  63,  64,\n",
              "        65,  66,  67,  68,  69,  70,  71,  72,  73,  74,  75,  76,  77,\n",
              "        78,  79,  80,  81,  82,  83,  84,  85,  86,  87,  88,  89,  90,\n",
              "        91,  92,  93,  94,  95,  96,  97,  98,  99, 100, 101, 102, 103,\n",
              "       104, 105, 106, 107, 108, 109, 110, 111, 112, 113, 114, 115, 116,\n",
              "       117, 118, 119], dtype=int32)"
            ]
          },
          "metadata": {},
          "execution_count": 37
        }
      ]
    },
    {
      "cell_type": "code",
      "source": [
        "A = tf.constant(numpy_A, shape=(2, 3, 4, 5))"
      ],
      "metadata": {
        "id": "r-vB7X-iYNbs"
      },
      "execution_count": 38,
      "outputs": []
    },
    {
      "cell_type": "code",
      "source": [
        "A"
      ],
      "metadata": {
        "colab": {
          "base_uri": "https://localhost:8080/"
        },
        "id": "rrk0TOwMYlvJ",
        "outputId": "5d37a9bf-e311-43e3-dec0-279f1ccd2306"
      },
      "execution_count": 39,
      "outputs": [
        {
          "output_type": "execute_result",
          "data": {
            "text/plain": [
              "<tf.Tensor: shape=(2, 3, 4, 5), dtype=int32, numpy=\n",
              "array([[[[  0,   1,   2,   3,   4],\n",
              "         [  5,   6,   7,   8,   9],\n",
              "         [ 10,  11,  12,  13,  14],\n",
              "         [ 15,  16,  17,  18,  19]],\n",
              "\n",
              "        [[ 20,  21,  22,  23,  24],\n",
              "         [ 25,  26,  27,  28,  29],\n",
              "         [ 30,  31,  32,  33,  34],\n",
              "         [ 35,  36,  37,  38,  39]],\n",
              "\n",
              "        [[ 40,  41,  42,  43,  44],\n",
              "         [ 45,  46,  47,  48,  49],\n",
              "         [ 50,  51,  52,  53,  54],\n",
              "         [ 55,  56,  57,  58,  59]]],\n",
              "\n",
              "\n",
              "       [[[ 60,  61,  62,  63,  64],\n",
              "         [ 65,  66,  67,  68,  69],\n",
              "         [ 70,  71,  72,  73,  74],\n",
              "         [ 75,  76,  77,  78,  79]],\n",
              "\n",
              "        [[ 80,  81,  82,  83,  84],\n",
              "         [ 85,  86,  87,  88,  89],\n",
              "         [ 90,  91,  92,  93,  94],\n",
              "         [ 95,  96,  97,  98,  99]],\n",
              "\n",
              "        [[100, 101, 102, 103, 104],\n",
              "         [105, 106, 107, 108, 109],\n",
              "         [110, 111, 112, 113, 114],\n",
              "         [115, 116, 117, 118, 119]]]], dtype=int32)>"
            ]
          },
          "metadata": {},
          "execution_count": 39
        }
      ]
    },
    {
      "cell_type": "code",
      "source": [
        "# Get first two elements of each dimension\n",
        "A[:2, :2, :2, :2]"
      ],
      "metadata": {
        "colab": {
          "base_uri": "https://localhost:8080/"
        },
        "id": "D5KExrzOYTTk",
        "outputId": "35d664f5-e6f4-4cce-d1a2-9153ba30df49"
      },
      "execution_count": 40,
      "outputs": [
        {
          "output_type": "execute_result",
          "data": {
            "text/plain": [
              "<tf.Tensor: shape=(2, 2, 2, 2), dtype=int32, numpy=\n",
              "array([[[[ 0,  1],\n",
              "         [ 5,  6]],\n",
              "\n",
              "        [[20, 21],\n",
              "         [25, 26]]],\n",
              "\n",
              "\n",
              "       [[[60, 61],\n",
              "         [65, 66]],\n",
              "\n",
              "        [[80, 81],\n",
              "         [85, 86]]]], dtype=int32)>"
            ]
          },
          "metadata": {},
          "execution_count": 40
        }
      ]
    },
    {
      "cell_type": "code",
      "source": [
        "# Get the first element from each dimension from each index except for the final one\n",
        "A[:1, :1, :1]\n",
        "A[:1, :1, :1].numpy()"
      ],
      "metadata": {
        "colab": {
          "base_uri": "https://localhost:8080/"
        },
        "id": "Psd9PJARY0C8",
        "outputId": "82bf9a3f-ca27-4ea9-ba3c-87a6f2c1b85e"
      },
      "execution_count": 41,
      "outputs": [
        {
          "output_type": "execute_result",
          "data": {
            "text/plain": [
              "array([[[[0, 1, 2, 3, 4]]]], dtype=int32)"
            ]
          },
          "metadata": {},
          "execution_count": 41
        }
      ]
    },
    {
      "cell_type": "code",
      "source": [
        "A[:1, :1, :, :1]"
      ],
      "metadata": {
        "colab": {
          "base_uri": "https://localhost:8080/"
        },
        "id": "m2sVCfFVaemL",
        "outputId": "ac85137a-9270-4e71-9f15-4ea6a5e66f5e"
      },
      "execution_count": 42,
      "outputs": [
        {
          "output_type": "execute_result",
          "data": {
            "text/plain": [
              "<tf.Tensor: shape=(1, 1, 4, 1), dtype=int32, numpy=\n",
              "array([[[[ 0],\n",
              "         [ 5],\n",
              "         [10],\n",
              "         [15]]]], dtype=int32)>"
            ]
          },
          "metadata": {},
          "execution_count": 42
        }
      ]
    },
    {
      "cell_type": "markdown",
      "source": [
        "Rank 2 tensor B"
      ],
      "metadata": {
        "id": "mKHYjaN9aGQq"
      }
    },
    {
      "cell_type": "code",
      "source": [
        "numpy_B = np.arange(0, 6, dtype=np.int32)\n",
        "B = tf.constant(numpy_B, shape=(2, 3))"
      ],
      "metadata": {
        "id": "OJBczOWVaxFE"
      },
      "execution_count": 43,
      "outputs": []
    },
    {
      "cell_type": "code",
      "source": [
        "B"
      ],
      "metadata": {
        "colab": {
          "base_uri": "https://localhost:8080/"
        },
        "id": "vJ58wdb3axHw",
        "outputId": "912f0458-9656-4301-acf7-224c1d6cc544"
      },
      "execution_count": 44,
      "outputs": [
        {
          "output_type": "execute_result",
          "data": {
            "text/plain": [
              "<tf.Tensor: shape=(2, 3), dtype=int32, numpy=\n",
              "array([[0, 1, 2],\n",
              "       [3, 4, 5]], dtype=int32)>"
            ]
          },
          "metadata": {},
          "execution_count": 44
        }
      ]
    },
    {
      "cell_type": "code",
      "source": [
        "B.shape, B.ndim"
      ],
      "metadata": {
        "colab": {
          "base_uri": "https://localhost:8080/"
        },
        "id": "BSAVRN82axKZ",
        "outputId": "1d313434-7ae0-4e81-bbe2-b49c5386d2a3"
      },
      "execution_count": 45,
      "outputs": [
        {
          "output_type": "execute_result",
          "data": {
            "text/plain": [
              "(TensorShape([2, 3]), 2)"
            ]
          },
          "metadata": {},
          "execution_count": 45
        }
      ]
    },
    {
      "cell_type": "code",
      "source": [
        "# Get the last item of each row of our rank 2 tensor\n",
        "B[:, -1]"
      ],
      "metadata": {
        "colab": {
          "base_uri": "https://localhost:8080/"
        },
        "id": "SsaoRpv0bIZ8",
        "outputId": "723260ce-292d-49be-bf52-ef04db857d21"
      },
      "execution_count": 46,
      "outputs": [
        {
          "output_type": "execute_result",
          "data": {
            "text/plain": [
              "<tf.Tensor: shape=(2,), dtype=int32, numpy=array([2, 5], dtype=int32)>"
            ]
          },
          "metadata": {},
          "execution_count": 46
        }
      ]
    },
    {
      "cell_type": "markdown",
      "source": [
        "Add an extra dimension to the rank 2 tensor - Rank 3 tensor C"
      ],
      "metadata": {
        "id": "DZ8LVUFejkzs"
      }
    },
    {
      "cell_type": "code",
      "source": [
        "C = B[..., tf.newaxis] # same as -> C = B[:, :, tf.newaxis]\n",
        "C"
      ],
      "metadata": {
        "colab": {
          "base_uri": "https://localhost:8080/"
        },
        "id": "9kVCYbqYjjI5",
        "outputId": "9a179090-a5b9-4859-a6ec-22688db3df67"
      },
      "execution_count": 47,
      "outputs": [
        {
          "output_type": "execute_result",
          "data": {
            "text/plain": [
              "<tf.Tensor: shape=(2, 3, 1), dtype=int32, numpy=\n",
              "array([[[0],\n",
              "        [1],\n",
              "        [2]],\n",
              "\n",
              "       [[3],\n",
              "        [4],\n",
              "        [5]]], dtype=int32)>"
            ]
          },
          "metadata": {},
          "execution_count": 47
        }
      ]
    },
    {
      "cell_type": "code",
      "source": [
        "tf.expand_dims(B, axis=-1) # -1 means expand the final axis"
      ],
      "metadata": {
        "colab": {
          "base_uri": "https://localhost:8080/"
        },
        "id": "n30cadxejjMN",
        "outputId": "ec72d287-5ca8-4153-da0e-308371ae3d11"
      },
      "execution_count": 48,
      "outputs": [
        {
          "output_type": "execute_result",
          "data": {
            "text/plain": [
              "<tf.Tensor: shape=(2, 3, 1), dtype=int32, numpy=\n",
              "array([[[0],\n",
              "        [1],\n",
              "        [2]],\n",
              "\n",
              "       [[3],\n",
              "        [4],\n",
              "        [5]]], dtype=int32)>"
            ]
          },
          "metadata": {},
          "execution_count": 48
        }
      ]
    },
    {
      "cell_type": "code",
      "source": [
        "tf.expand_dims(B, axis=0) # expand the 0 axis"
      ],
      "metadata": {
        "colab": {
          "base_uri": "https://localhost:8080/"
        },
        "id": "w5l46WiLk-aB",
        "outputId": "2c4ca14e-8a0f-4140-da33-3ca191bfacc9"
      },
      "execution_count": 49,
      "outputs": [
        {
          "output_type": "execute_result",
          "data": {
            "text/plain": [
              "<tf.Tensor: shape=(1, 2, 3), dtype=int32, numpy=\n",
              "array([[[0, 1, 2],\n",
              "        [3, 4, 5]]], dtype=int32)>"
            ]
          },
          "metadata": {},
          "execution_count": 49
        }
      ]
    },
    {
      "cell_type": "markdown",
      "source": [
        "### Basic Tensor Operations"
      ],
      "metadata": {
        "id": "UCBZCtJ5mTe3"
      }
    },
    {
      "cell_type": "code",
      "source": [
        "tensor_1 = tf.constant([[20, 6],[3, 5]])\n",
        "tensor_1 + 10"
      ],
      "metadata": {
        "colab": {
          "base_uri": "https://localhost:8080/"
        },
        "id": "XctKa5LsjjQq",
        "outputId": "4e4b99ad-e22c-4022-ccc5-e78c120d58c8"
      },
      "execution_count": 50,
      "outputs": [
        {
          "output_type": "execute_result",
          "data": {
            "text/plain": [
              "<tf.Tensor: shape=(2, 2), dtype=int32, numpy=\n",
              "array([[30, 16],\n",
              "       [13, 15]], dtype=int32)>"
            ]
          },
          "metadata": {},
          "execution_count": 50
        }
      ]
    },
    {
      "cell_type": "code",
      "source": [
        "tensor_1 * 10"
      ],
      "metadata": {
        "colab": {
          "base_uri": "https://localhost:8080/"
        },
        "id": "KjpzKqo9msDx",
        "outputId": "17be7b3d-795b-4b41-d9fb-6643caf97098"
      },
      "execution_count": 51,
      "outputs": [
        {
          "output_type": "execute_result",
          "data": {
            "text/plain": [
              "<tf.Tensor: shape=(2, 2), dtype=int32, numpy=\n",
              "array([[200,  60],\n",
              "       [ 30,  50]], dtype=int32)>"
            ]
          },
          "metadata": {},
          "execution_count": 51
        }
      ]
    },
    {
      "cell_type": "code",
      "source": [
        "tensor_1 - 10"
      ],
      "metadata": {
        "colab": {
          "base_uri": "https://localhost:8080/"
        },
        "id": "kqaJngUcmwjQ",
        "outputId": "5180b900-fffd-49ff-d4ee-a477a4b4a70f"
      },
      "execution_count": 52,
      "outputs": [
        {
          "output_type": "execute_result",
          "data": {
            "text/plain": [
              "<tf.Tensor: shape=(2, 2), dtype=int32, numpy=\n",
              "array([[10, -4],\n",
              "       [-7, -5]], dtype=int32)>"
            ]
          },
          "metadata": {},
          "execution_count": 52
        }
      ]
    },
    {
      "cell_type": "markdown",
      "source": [
        "We can use tf inbuilt functions so that the operation can be sped up on a GPU"
      ],
      "metadata": {
        "id": "JJLUTJq1m1Bv"
      }
    },
    {
      "cell_type": "code",
      "source": [
        "tf.multiply(tensor_1, 10)"
      ],
      "metadata": {
        "colab": {
          "base_uri": "https://localhost:8080/"
        },
        "id": "xqLLpQkCm4j_",
        "outputId": "8ffb5eeb-2272-48d3-c988-fc55f20f3c92"
      },
      "execution_count": 53,
      "outputs": [
        {
          "output_type": "execute_result",
          "data": {
            "text/plain": [
              "<tf.Tensor: shape=(2, 2), dtype=int32, numpy=\n",
              "array([[200,  60],\n",
              "       [ 30,  50]], dtype=int32)>"
            ]
          },
          "metadata": {},
          "execution_count": 53
        }
      ]
    },
    {
      "cell_type": "code",
      "source": [
        "tf.add(tensor_1, 4)"
      ],
      "metadata": {
        "colab": {
          "base_uri": "https://localhost:8080/"
        },
        "id": "k0ECtsxcm0BI",
        "outputId": "5dfb8af7-0ade-4467-9951-d8f3c3d0a39f"
      },
      "execution_count": 54,
      "outputs": [
        {
          "output_type": "execute_result",
          "data": {
            "text/plain": [
              "<tf.Tensor: shape=(2, 2), dtype=int32, numpy=\n",
              "array([[24, 10],\n",
              "       [ 7,  9]], dtype=int32)>"
            ]
          },
          "metadata": {},
          "execution_count": 54
        }
      ]
    },
    {
      "cell_type": "markdown",
      "source": [
        "### Matrix Multiplication\n",
        "It is one the most common operations"
      ],
      "metadata": {
        "id": "8ndJAGQYnimi"
      }
    },
    {
      "cell_type": "code",
      "source": [
        "x = tf.constant([[2, 5],[3, 7]])\n",
        "y = tf.constant([[7, 6, 9],[1, 5, 8]])\n",
        "tf.matmul(x, y)"
      ],
      "metadata": {
        "colab": {
          "base_uri": "https://localhost:8080/"
        },
        "id": "bK1iNFMcntD7",
        "outputId": "337f0f0a-1168-4a3b-9891-ebc0dfa81ac2"
      },
      "execution_count": 55,
      "outputs": [
        {
          "output_type": "execute_result",
          "data": {
            "text/plain": [
              "<tf.Tensor: shape=(2, 3), dtype=int32, numpy=\n",
              "array([[19, 37, 58],\n",
              "       [28, 53, 83]], dtype=int32)>"
            ]
          },
          "metadata": {},
          "execution_count": 55
        }
      ]
    },
    {
      "cell_type": "code",
      "source": [
        "tf.matmul(x, x)"
      ],
      "metadata": {
        "colab": {
          "base_uri": "https://localhost:8080/"
        },
        "id": "GfowxjhmntuT",
        "outputId": "cb4dd77c-56b9-4f0c-c833-44609566c3ee"
      },
      "execution_count": 56,
      "outputs": [
        {
          "output_type": "execute_result",
          "data": {
            "text/plain": [
              "<tf.Tensor: shape=(2, 2), dtype=int32, numpy=\n",
              "array([[19, 45],\n",
              "       [27, 64]], dtype=int32)>"
            ]
          },
          "metadata": {},
          "execution_count": 56
        }
      ]
    },
    {
      "cell_type": "code",
      "source": [
        "x * x"
      ],
      "metadata": {
        "colab": {
          "base_uri": "https://localhost:8080/"
        },
        "id": "jlbIgB1vpK75",
        "outputId": "25b48ccb-079c-488c-a5e9-2198f2718fe9"
      },
      "execution_count": 57,
      "outputs": [
        {
          "output_type": "execute_result",
          "data": {
            "text/plain": [
              "<tf.Tensor: shape=(2, 2), dtype=int32, numpy=\n",
              "array([[ 4, 25],\n",
              "       [ 9, 49]], dtype=int32)>"
            ]
          },
          "metadata": {},
          "execution_count": 57
        }
      ]
    },
    {
      "cell_type": "code",
      "source": [
        "x @ y"
      ],
      "metadata": {
        "colab": {
          "base_uri": "https://localhost:8080/"
        },
        "id": "w8IdfdhUpbJL",
        "outputId": "58b2bd81-dc0e-43cb-da79-c283ae2ebb1e"
      },
      "execution_count": 58,
      "outputs": [
        {
          "output_type": "execute_result",
          "data": {
            "text/plain": [
              "<tf.Tensor: shape=(2, 3), dtype=int32, numpy=\n",
              "array([[19, 37, 58],\n",
              "       [28, 53, 83]], dtype=int32)>"
            ]
          },
          "metadata": {},
          "execution_count": 58
        }
      ]
    },
    {
      "cell_type": "markdown",
      "source": [
        "## Transpose vs Reshape\n",
        "Transpose flips the axes whereas reshape maintains order of row-wise occurance"
      ],
      "metadata": {
        "id": "LSNNmLTggAJG"
      }
    },
    {
      "cell_type": "code",
      "source": [
        "tf.reshape(y, shape=(3,2))"
      ],
      "metadata": {
        "colab": {
          "base_uri": "https://localhost:8080/"
        },
        "id": "C2bBmCqtqaaL",
        "outputId": "19f60f21-f7f3-4823-fd89-804338837748"
      },
      "execution_count": 59,
      "outputs": [
        {
          "output_type": "execute_result",
          "data": {
            "text/plain": [
              "<tf.Tensor: shape=(3, 2), dtype=int32, numpy=\n",
              "array([[7, 6],\n",
              "       [9, 1],\n",
              "       [5, 8]], dtype=int32)>"
            ]
          },
          "metadata": {},
          "execution_count": 59
        }
      ]
    },
    {
      "cell_type": "code",
      "source": [
        "tf.transpose(y)"
      ],
      "metadata": {
        "colab": {
          "base_uri": "https://localhost:8080/"
        },
        "id": "UT_0CRiZqzoB",
        "outputId": "1f9a61fe-dbe1-469c-acf5-5af0fe5d20c7"
      },
      "execution_count": 60,
      "outputs": [
        {
          "output_type": "execute_result",
          "data": {
            "text/plain": [
              "<tf.Tensor: shape=(3, 2), dtype=int32, numpy=\n",
              "array([[7, 1],\n",
              "       [6, 5],\n",
              "       [9, 8]], dtype=int32)>"
            ]
          },
          "metadata": {},
          "execution_count": 60
        }
      ]
    },
    {
      "cell_type": "markdown",
      "source": [
        "## The dot product\n",
        "Multiplying matrices by each other is also referred to as the dot product.\n",
        "\n",
        "You can perform the tf.matmul() operation using tf.tensordot()."
      ],
      "metadata": {
        "id": "RXTwfZc7rtNw"
      }
    },
    {
      "cell_type": "code",
      "source": [
        "x, y"
      ],
      "metadata": {
        "colab": {
          "base_uri": "https://localhost:8080/"
        },
        "id": "qR56mSEfrtcC",
        "outputId": "ed777b75-7ee8-45f4-e51a-1aeeb47e2be6"
      },
      "execution_count": 61,
      "outputs": [
        {
          "output_type": "execute_result",
          "data": {
            "text/plain": [
              "(<tf.Tensor: shape=(2, 2), dtype=int32, numpy=\n",
              " array([[2, 5],\n",
              "        [3, 7]], dtype=int32)>,\n",
              " <tf.Tensor: shape=(2, 3), dtype=int32, numpy=\n",
              " array([[7, 6, 9],\n",
              "        [1, 5, 8]], dtype=int32)>)"
            ]
          },
          "metadata": {},
          "execution_count": 61
        }
      ]
    },
    {
      "cell_type": "code",
      "source": [
        "tf.tensordot(tf.transpose(x), y, axes=1)"
      ],
      "metadata": {
        "colab": {
          "base_uri": "https://localhost:8080/"
        },
        "id": "Eq5fq6dvrtZU",
        "outputId": "b3d3342c-19ba-4484-da50-a43dacc3e195"
      },
      "execution_count": 62,
      "outputs": [
        {
          "output_type": "execute_result",
          "data": {
            "text/plain": [
              "<tf.Tensor: shape=(2, 3), dtype=int32, numpy=\n",
              "array([[ 17,  27,  42],\n",
              "       [ 42,  65, 101]], dtype=int32)>"
            ]
          },
          "metadata": {},
          "execution_count": 62
        }
      ]
    },
    {
      "cell_type": "code",
      "source": [
        "# Create (3, 2) tensor\n",
        "x = tf.constant([[1, 2],\n",
        "                 [3, 4],\n",
        "                 [5, 6]])\n",
        "\n",
        "# Create another (3, 2) tensor\n",
        "y = tf.constant([[7, 8],\n",
        "                 [9, 10],\n",
        "                 [11, 12]])"
      ],
      "metadata": {
        "id": "FuT1GUTmsg74"
      },
      "execution_count": 63,
      "outputs": []
    },
    {
      "cell_type": "code",
      "source": [
        "# Perform matrix multiplication between X and Y (transposed)\n",
        "tf.matmul(x, tf.transpose(y))"
      ],
      "metadata": {
        "colab": {
          "base_uri": "https://localhost:8080/"
        },
        "id": "ciVQ7DFqrtfY",
        "outputId": "10315978-793d-4886-db07-de311efd0047"
      },
      "execution_count": 64,
      "outputs": [
        {
          "output_type": "execute_result",
          "data": {
            "text/plain": [
              "<tf.Tensor: shape=(3, 3), dtype=int32, numpy=\n",
              "array([[ 23,  29,  35],\n",
              "       [ 53,  67,  81],\n",
              "       [ 83, 105, 127]], dtype=int32)>"
            ]
          },
          "metadata": {},
          "execution_count": 64
        }
      ]
    },
    {
      "cell_type": "code",
      "source": [
        "# Perform matrix multiplication between X and Y (reshaped)\n",
        "tf.matmul(x, tf.reshape(y, (2, 3)))"
      ],
      "metadata": {
        "colab": {
          "base_uri": "https://localhost:8080/"
        },
        "id": "VoNj8vWysSL8",
        "outputId": "6da73051-f10b-4e0b-878a-254edc06d10d"
      },
      "execution_count": 65,
      "outputs": [
        {
          "output_type": "execute_result",
          "data": {
            "text/plain": [
              "<tf.Tensor: shape=(3, 3), dtype=int32, numpy=\n",
              "array([[ 27,  30,  33],\n",
              "       [ 61,  68,  75],\n",
              "       [ 95, 106, 117]], dtype=int32)>"
            ]
          },
          "metadata": {},
          "execution_count": 65
        }
      ]
    },
    {
      "cell_type": "code",
      "source": [
        "# Check values of Y, reshape Y and tranposed Y\n",
        "print(\"Normal Y:\")\n",
        "print(y, \"\\n\") # \"\\n\" for newline\n",
        "\n",
        "print(\"Y reshaped to (2, 3):\")\n",
        "print(tf.reshape(y, (2, 3)), \"\\n\")\n",
        "\n",
        "print(\"Y transposed:\")\n",
        "print(tf.transpose(y))"
      ],
      "metadata": {
        "colab": {
          "base_uri": "https://localhost:8080/"
        },
        "id": "B2fDwwQLsqgY",
        "outputId": "1f2fd501-bdf8-4f30-a600-fcb9ea2bd6ad"
      },
      "execution_count": 66,
      "outputs": [
        {
          "output_type": "stream",
          "name": "stdout",
          "text": [
            "Normal Y:\n",
            "tf.Tensor(\n",
            "[[ 7  8]\n",
            " [ 9 10]\n",
            " [11 12]], shape=(3, 2), dtype=int32) \n",
            "\n",
            "Y reshaped to (2, 3):\n",
            "tf.Tensor(\n",
            "[[ 7  8  9]\n",
            " [10 11 12]], shape=(2, 3), dtype=int32) \n",
            "\n",
            "Y transposed:\n",
            "tf.Tensor(\n",
            "[[ 7  9 11]\n",
            " [ 8 10 12]], shape=(2, 3), dtype=int32)\n"
          ]
        }
      ]
    },
    {
      "cell_type": "markdown",
      "source": [
        "As you can see, the outputs of tf.reshape() and tf.transpose() when called on Y, even though they have the same shape, are different.\n",
        "\n",
        "This can be explained by the default behaviour of each method:\n",
        "\n",
        "tf.reshape() - change the shape of the given tensor (first) and then insert values in order they appear (in our case, 7, 8, 9, 10, 11, 12).\n",
        "tf.transpose() - swap the order of the axes, by default the last axis becomes the first, however the order can be changed using the perm parameter.\n",
        "So which should you use?\n",
        "\n",
        "Again, most of the time these operations (when they need to be run, such as during the training a neural network, will be implemented for you).\n",
        "\n",
        "### **But generally, whenever performing a matrix multiplication and the shapes of two matrices don't line up, you will transpose (not reshape) one of them in order to line them up.**"
      ],
      "metadata": {
        "id": "Etc6VxzdCGrr"
      }
    },
    {
      "cell_type": "markdown",
      "source": [
        "### Change the datatype of a tensor"
      ],
      "metadata": {
        "id": "IUl_aidnDiaJ"
      }
    },
    {
      "cell_type": "code",
      "source": [
        "B = tf.constant([1.7, 1.4])\n",
        "B.dtype"
      ],
      "metadata": {
        "colab": {
          "base_uri": "https://localhost:8080/"
        },
        "id": "-FU_m1EZCHW5",
        "outputId": "8fac92b1-5e22-4ace-82f9-10ce60f6f0a6"
      },
      "execution_count": 67,
      "outputs": [
        {
          "output_type": "execute_result",
          "data": {
            "text/plain": [
              "tf.float32"
            ]
          },
          "metadata": {},
          "execution_count": 67
        }
      ]
    },
    {
      "cell_type": "code",
      "source": [
        "B = tf.constant([1, 4])\n",
        "B.dtype"
      ],
      "metadata": {
        "colab": {
          "base_uri": "https://localhost:8080/"
        },
        "id": "oJFUj5bdCHgO",
        "outputId": "68f7b201-e206-4f1f-b0b3-d400a3866a13"
      },
      "execution_count": 68,
      "outputs": [
        {
          "output_type": "execute_result",
          "data": {
            "text/plain": [
              "tf.int32"
            ]
          },
          "metadata": {},
          "execution_count": 68
        }
      ]
    },
    {
      "cell_type": "code",
      "source": [
        "D = tf.cast(B, dtype=tf.float16)\n",
        "D, D.dtype"
      ],
      "metadata": {
        "colab": {
          "base_uri": "https://localhost:8080/"
        },
        "id": "17IpEgniCHlV",
        "outputId": "376cd906-f5f6-41a9-bd6d-9942e2f03edc"
      },
      "execution_count": 69,
      "outputs": [
        {
          "output_type": "execute_result",
          "data": {
            "text/plain": [
              "(<tf.Tensor: shape=(2,), dtype=float16, numpy=array([1., 4.], dtype=float16)>,\n",
              " tf.float16)"
            ]
          },
          "metadata": {},
          "execution_count": 69
        }
      ]
    },
    {
      "cell_type": "markdown",
      "source": [
        "### Aggregating Tensors"
      ],
      "metadata": {
        "id": "2VyfeXurI2W2"
      }
    },
    {
      "cell_type": "code",
      "source": [
        "B = tf.constant([[-1, -4],[-3, -7]])\n",
        "B.dtype"
      ],
      "metadata": {
        "colab": {
          "base_uri": "https://localhost:8080/"
        },
        "id": "C0lMJEg5CHpE",
        "outputId": "25a5a482-ca15-44a1-d966-294c17b3f67f"
      },
      "execution_count": 70,
      "outputs": [
        {
          "output_type": "execute_result",
          "data": {
            "text/plain": [
              "tf.int32"
            ]
          },
          "metadata": {},
          "execution_count": 70
        }
      ]
    },
    {
      "cell_type": "code",
      "source": [
        "tf.abs(B)"
      ],
      "metadata": {
        "colab": {
          "base_uri": "https://localhost:8080/"
        },
        "id": "a0pYyNtzKsqE",
        "outputId": "c45d92da-da8a-4407-81d3-84590fe6f867"
      },
      "execution_count": 71,
      "outputs": [
        {
          "output_type": "execute_result",
          "data": {
            "text/plain": [
              "<tf.Tensor: shape=(2, 2), dtype=int32, numpy=\n",
              "array([[1, 4],\n",
              "       [3, 7]], dtype=int32)>"
            ]
          },
          "metadata": {},
          "execution_count": 71
        }
      ]
    },
    {
      "cell_type": "markdown",
      "source": [
        "* Minimum\n",
        "* Maximum\n",
        "* Mean\n",
        "* Sum"
      ],
      "metadata": {
        "id": "nF2S3vf4KxkT"
      }
    },
    {
      "cell_type": "code",
      "source": [
        "E = tf.constant(np.random.randint(0, 100, size=50))\n",
        "#E = tf.reshape(E, shape=(5, 5, 2))"
      ],
      "metadata": {
        "id": "ouQ0htpWLy0E"
      },
      "execution_count": 72,
      "outputs": []
    },
    {
      "cell_type": "code",
      "source": [
        "E"
      ],
      "metadata": {
        "colab": {
          "base_uri": "https://localhost:8080/"
        },
        "id": "zRSs6SB_MgAy",
        "outputId": "8b4efb72-d02c-478f-bb19-857ed2ad64ca"
      },
      "execution_count": 73,
      "outputs": [
        {
          "output_type": "execute_result",
          "data": {
            "text/plain": [
              "<tf.Tensor: shape=(50,), dtype=int64, numpy=\n",
              "array([39, 38, 60, 48, 74, 91, 13, 36, 23, 59, 60, 40, 29, 41, 15, 26, 13,\n",
              "       71, 65, 84, 87, 50, 43, 19, 56, 92, 89, 10, 10, 48, 36, 55, 86, 31,\n",
              "       34, 88, 56, 39, 67, 99, 71, 20, 96, 10, 44,  2, 63, 97, 61, 55])>"
            ]
          },
          "metadata": {},
          "execution_count": 73
        }
      ]
    },
    {
      "cell_type": "code",
      "source": [
        "tf.reduce_min(E)"
      ],
      "metadata": {
        "colab": {
          "base_uri": "https://localhost:8080/"
        },
        "id": "53tHCqAEK50H",
        "outputId": "3265d01a-18f8-4ecb-c5ca-efbc7a3f3b51"
      },
      "execution_count": 74,
      "outputs": [
        {
          "output_type": "execute_result",
          "data": {
            "text/plain": [
              "<tf.Tensor: shape=(), dtype=int64, numpy=2>"
            ]
          },
          "metadata": {},
          "execution_count": 74
        }
      ]
    },
    {
      "cell_type": "code",
      "source": [
        "tf.reduce_max(E)"
      ],
      "metadata": {
        "colab": {
          "base_uri": "https://localhost:8080/"
        },
        "id": "nLkbGXEKK530",
        "outputId": "9feead4c-7309-4bd7-c9c6-cf9d9a32c819"
      },
      "execution_count": 75,
      "outputs": [
        {
          "output_type": "execute_result",
          "data": {
            "text/plain": [
              "<tf.Tensor: shape=(), dtype=int64, numpy=99>"
            ]
          },
          "metadata": {},
          "execution_count": 75
        }
      ]
    },
    {
      "cell_type": "code",
      "source": [
        "tf.reduce_mean(E)"
      ],
      "metadata": {
        "colab": {
          "base_uri": "https://localhost:8080/"
        },
        "id": "M4yS7ni-Ksww",
        "outputId": "9ec13bcb-5494-40c5-e7cd-f4642964ff20"
      },
      "execution_count": 76,
      "outputs": [
        {
          "output_type": "execute_result",
          "data": {
            "text/plain": [
              "<tf.Tensor: shape=(), dtype=int64, numpy=50>"
            ]
          },
          "metadata": {},
          "execution_count": 76
        }
      ]
    },
    {
      "cell_type": "code",
      "source": [
        "tf.reduce_sum(E)"
      ],
      "metadata": {
        "colab": {
          "base_uri": "https://localhost:8080/"
        },
        "id": "7YVHaT17Mogv",
        "outputId": "86c4e962-e26f-48f3-accf-c7ca5a27402b"
      },
      "execution_count": 77,
      "outputs": [
        {
          "output_type": "execute_result",
          "data": {
            "text/plain": [
              "<tf.Tensor: shape=(), dtype=int64, numpy=2539>"
            ]
          },
          "metadata": {},
          "execution_count": 77
        }
      ]
    },
    {
      "cell_type": "markdown",
      "source": [
        "* Variation\n",
        "* Std Deviation"
      ],
      "metadata": {
        "id": "kkinpTOpMx5v"
      }
    },
    {
      "cell_type": "code",
      "source": [
        "E = tf.cast(E, dtype=tf.float32)"
      ],
      "metadata": {
        "id": "R5toe6_zNuCu"
      },
      "execution_count": 78,
      "outputs": []
    },
    {
      "cell_type": "code",
      "source": [
        "tf.math.reduce_variance(E) # only works with floats ig"
      ],
      "metadata": {
        "colab": {
          "base_uri": "https://localhost:8080/"
        },
        "id": "-wETl0HTMokA",
        "outputId": "dd08dff4-706d-478f-a644-bf428684e095"
      },
      "execution_count": 79,
      "outputs": [
        {
          "output_type": "execute_result",
          "data": {
            "text/plain": [
              "<tf.Tensor: shape=(), dtype=float32, numpy=718.6916>"
            ]
          },
          "metadata": {},
          "execution_count": 79
        }
      ]
    },
    {
      "cell_type": "code",
      "source": [
        "tf.math.reduce_std(E) # only works with floats ig"
      ],
      "metadata": {
        "colab": {
          "base_uri": "https://localhost:8080/"
        },
        "id": "hrO8yXXYMouh",
        "outputId": "fc1130fd-b6c2-4ae0-e6b4-86fbc12a4733"
      },
      "execution_count": 80,
      "outputs": [
        {
          "output_type": "execute_result",
          "data": {
            "text/plain": [
              "<tf.Tensor: shape=(), dtype=float32, numpy=26.808424>"
            ]
          },
          "metadata": {},
          "execution_count": 80
        }
      ]
    },
    {
      "cell_type": "markdown",
      "source": [
        "or using tfp"
      ],
      "metadata": {
        "id": "tUq1TXJnN8s2"
      }
    },
    {
      "cell_type": "code",
      "source": [
        "import tensorflow_probability as tfp"
      ],
      "metadata": {
        "id": "K7HwWpsGMo0A"
      },
      "execution_count": 81,
      "outputs": []
    },
    {
      "cell_type": "code",
      "source": [
        "tfp.stats.variance(E)"
      ],
      "metadata": {
        "colab": {
          "base_uri": "https://localhost:8080/"
        },
        "id": "ee6Sua-mOEON",
        "outputId": "ad146e09-e6ad-4ca7-ef3d-a915ce559ecc"
      },
      "execution_count": 82,
      "outputs": [
        {
          "output_type": "execute_result",
          "data": {
            "text/plain": [
              "<tf.Tensor: shape=(), dtype=float32, numpy=718.6916>"
            ]
          },
          "metadata": {},
          "execution_count": 82
        }
      ]
    },
    {
      "cell_type": "code",
      "source": [
        "E.shape"
      ],
      "metadata": {
        "colab": {
          "base_uri": "https://localhost:8080/"
        },
        "id": "II23wxTSQGhK",
        "outputId": "13ec0174-85ce-45fa-c844-8c12567ca01a"
      },
      "execution_count": 83,
      "outputs": [
        {
          "output_type": "execute_result",
          "data": {
            "text/plain": [
              "TensorShape([50])"
            ]
          },
          "metadata": {},
          "execution_count": 83
        }
      ]
    },
    {
      "cell_type": "code",
      "source": [
        "E"
      ],
      "metadata": {
        "colab": {
          "base_uri": "https://localhost:8080/"
        },
        "id": "5aZElxPTQNKH",
        "outputId": "41899452-b945-4a3d-a992-e7f517ede354"
      },
      "execution_count": 84,
      "outputs": [
        {
          "output_type": "execute_result",
          "data": {
            "text/plain": [
              "<tf.Tensor: shape=(50,), dtype=float32, numpy=\n",
              "array([39., 38., 60., 48., 74., 91., 13., 36., 23., 59., 60., 40., 29.,\n",
              "       41., 15., 26., 13., 71., 65., 84., 87., 50., 43., 19., 56., 92.,\n",
              "       89., 10., 10., 48., 36., 55., 86., 31., 34., 88., 56., 39., 67.,\n",
              "       99., 71., 20., 96., 10., 44.,  2., 63., 97., 61., 55.],\n",
              "      dtype=float32)>"
            ]
          },
          "metadata": {},
          "execution_count": 84
        }
      ]
    },
    {
      "cell_type": "markdown",
      "source": [
        "Positions of Max and Min"
      ],
      "metadata": {
        "id": "kOXOZqWfVc3Z"
      }
    },
    {
      "cell_type": "code",
      "source": [
        "E = tf.constant(np.random.uniform(size=[36]))\n",
        "# E = tf.reshape(E, shape=(12, 3))\n",
        "E"
      ],
      "metadata": {
        "colab": {
          "base_uri": "https://localhost:8080/"
        },
        "id": "9TZwCEYJVgKb",
        "outputId": "2ef00dd8-e366-47eb-a3e0-66cd591a8556"
      },
      "execution_count": 85,
      "outputs": [
        {
          "output_type": "execute_result",
          "data": {
            "text/plain": [
              "<tf.Tensor: shape=(36,), dtype=float64, numpy=\n",
              "array([0.6673897 , 0.66133204, 0.23984214, 0.26532368, 0.67640182,\n",
              "       0.13153749, 0.17386232, 0.34342843, 0.43164923, 0.28445189,\n",
              "       0.61290877, 0.29174499, 0.71762442, 0.51023232, 0.9510543 ,\n",
              "       0.88982195, 0.94047628, 0.32767316, 0.93318382, 0.90101958,\n",
              "       0.27170425, 0.56017063, 0.03278688, 0.55843498, 0.63276026,\n",
              "       0.39006783, 0.15570127, 0.53125052, 0.16708906, 0.07309876,\n",
              "       0.68041083, 0.78456422, 0.49494347, 0.01788687, 0.83270054,\n",
              "       0.00291875])>"
            ]
          },
          "metadata": {},
          "execution_count": 85
        }
      ]
    },
    {
      "cell_type": "code",
      "source": [
        "tf.argmax(E)"
      ],
      "metadata": {
        "colab": {
          "base_uri": "https://localhost:8080/"
        },
        "id": "ZEY14JLUPoje",
        "outputId": "5dc47eda-4a7e-4623-e98c-5bf0e0a3b258"
      },
      "execution_count": 86,
      "outputs": [
        {
          "output_type": "execute_result",
          "data": {
            "text/plain": [
              "<tf.Tensor: shape=(), dtype=int64, numpy=14>"
            ]
          },
          "metadata": {},
          "execution_count": 86
        }
      ]
    },
    {
      "cell_type": "code",
      "source": [
        "assert E[tf.argmax(E)] == tf.reduce_max(E)"
      ],
      "metadata": {
        "id": "KYVKpOeGrzNS"
      },
      "execution_count": 87,
      "outputs": []
    },
    {
      "cell_type": "code",
      "source": [
        "# tf.argmax(E, axis = 1)"
      ],
      "metadata": {
        "id": "iE0QM9jsVyEo"
      },
      "execution_count": 88,
      "outputs": []
    },
    {
      "cell_type": "code",
      "source": [
        "tf.argmin(E)"
      ],
      "metadata": {
        "colab": {
          "base_uri": "https://localhost:8080/"
        },
        "id": "9COEqCKRPrty",
        "outputId": "07cde46d-04d8-4b7b-eeeb-c68841c35587"
      },
      "execution_count": 89,
      "outputs": [
        {
          "output_type": "execute_result",
          "data": {
            "text/plain": [
              "<tf.Tensor: shape=(), dtype=int64, numpy=35>"
            ]
          },
          "metadata": {},
          "execution_count": 89
        }
      ]
    },
    {
      "cell_type": "code",
      "source": [
        "#tf.argmin(E, axis = 1)"
      ],
      "metadata": {
        "id": "xBeNR_YoV77O"
      },
      "execution_count": 90,
      "outputs": []
    },
    {
      "cell_type": "code",
      "source": [
        "E"
      ],
      "metadata": {
        "colab": {
          "base_uri": "https://localhost:8080/"
        },
        "id": "05U_YK1INVa_",
        "outputId": "7f14f121-6b63-4b6f-f884-284c905454dd"
      },
      "execution_count": 91,
      "outputs": [
        {
          "output_type": "execute_result",
          "data": {
            "text/plain": [
              "<tf.Tensor: shape=(36,), dtype=float64, numpy=\n",
              "array([0.6673897 , 0.66133204, 0.23984214, 0.26532368, 0.67640182,\n",
              "       0.13153749, 0.17386232, 0.34342843, 0.43164923, 0.28445189,\n",
              "       0.61290877, 0.29174499, 0.71762442, 0.51023232, 0.9510543 ,\n",
              "       0.88982195, 0.94047628, 0.32767316, 0.93318382, 0.90101958,\n",
              "       0.27170425, 0.56017063, 0.03278688, 0.55843498, 0.63276026,\n",
              "       0.39006783, 0.15570127, 0.53125052, 0.16708906, 0.07309876,\n",
              "       0.68041083, 0.78456422, 0.49494347, 0.01788687, 0.83270054,\n",
              "       0.00291875])>"
            ]
          },
          "metadata": {},
          "execution_count": 91
        }
      ]
    },
    {
      "cell_type": "code",
      "source": [
        "#E[tf.argmin(E, axis = 1)[0]]"
      ],
      "metadata": {
        "id": "Lg7PCzKSMrV9"
      },
      "execution_count": 92,
      "outputs": []
    },
    {
      "cell_type": "markdown",
      "source": [
        "## Squeezing a tensor (removing all dimensions of size 1)"
      ],
      "metadata": {
        "id": "98ktvbmBWjyX"
      }
    },
    {
      "cell_type": "code",
      "source": [
        "tf.random.set_seed(42)\n",
        "G = tf.constant(tf.random.uniform(shape=[50]), shape=(1,1,1,1,50))\n",
        "G"
      ],
      "metadata": {
        "id": "L6hSGEFaWony",
        "colab": {
          "base_uri": "https://localhost:8080/"
        },
        "outputId": "20636190-d84d-483e-c7bd-6a9c6d237546"
      },
      "execution_count": 93,
      "outputs": [
        {
          "output_type": "execute_result",
          "data": {
            "text/plain": [
              "<tf.Tensor: shape=(1, 1, 1, 1, 50), dtype=float32, numpy=\n",
              "array([[[[[0.6645621 , 0.44100678, 0.3528825 , 0.46448255, 0.03366041,\n",
              "           0.68467236, 0.74011743, 0.8724445 , 0.22632635, 0.22319686,\n",
              "           0.3103881 , 0.7223358 , 0.13318717, 0.5480639 , 0.5746088 ,\n",
              "           0.8996835 , 0.00946367, 0.5212307 , 0.6345445 , 0.1993283 ,\n",
              "           0.72942245, 0.54583454, 0.10756552, 0.6767061 , 0.6602763 ,\n",
              "           0.33695042, 0.60141766, 0.21062577, 0.8527372 , 0.44062173,\n",
              "           0.9485276 , 0.23752594, 0.81179297, 0.5263394 , 0.494308  ,\n",
              "           0.21612847, 0.8457197 , 0.8718841 , 0.3083862 , 0.6868038 ,\n",
              "           0.23764038, 0.7817228 , 0.9671384 , 0.06870162, 0.79873943,\n",
              "           0.66028714, 0.5871513 , 0.16461694, 0.7381023 , 0.32054043]]]]],\n",
              "      dtype=float32)>"
            ]
          },
          "metadata": {},
          "execution_count": 93
        }
      ]
    },
    {
      "cell_type": "code",
      "source": [
        "G.shape"
      ],
      "metadata": {
        "id": "RkhzI8NMWorB",
        "colab": {
          "base_uri": "https://localhost:8080/"
        },
        "outputId": "172f662a-04a8-42c6-a5e6-61e27a26b130"
      },
      "execution_count": 94,
      "outputs": [
        {
          "output_type": "execute_result",
          "data": {
            "text/plain": [
              "TensorShape([1, 1, 1, 1, 50])"
            ]
          },
          "metadata": {},
          "execution_count": 94
        }
      ]
    },
    {
      "cell_type": "code",
      "source": [
        "G_squeezed = tf.squeeze(G)\n",
        "G_squeezed, G_squeezed.shape"
      ],
      "metadata": {
        "colab": {
          "base_uri": "https://localhost:8080/"
        },
        "id": "L4eqMdS1OWpq",
        "outputId": "62bb4b83-d53b-49ae-be21-acc98358744b"
      },
      "execution_count": 95,
      "outputs": [
        {
          "output_type": "execute_result",
          "data": {
            "text/plain": [
              "(<tf.Tensor: shape=(50,), dtype=float32, numpy=\n",
              " array([0.6645621 , 0.44100678, 0.3528825 , 0.46448255, 0.03366041,\n",
              "        0.68467236, 0.74011743, 0.8724445 , 0.22632635, 0.22319686,\n",
              "        0.3103881 , 0.7223358 , 0.13318717, 0.5480639 , 0.5746088 ,\n",
              "        0.8996835 , 0.00946367, 0.5212307 , 0.6345445 , 0.1993283 ,\n",
              "        0.72942245, 0.54583454, 0.10756552, 0.6767061 , 0.6602763 ,\n",
              "        0.33695042, 0.60141766, 0.21062577, 0.8527372 , 0.44062173,\n",
              "        0.9485276 , 0.23752594, 0.81179297, 0.5263394 , 0.494308  ,\n",
              "        0.21612847, 0.8457197 , 0.8718841 , 0.3083862 , 0.6868038 ,\n",
              "        0.23764038, 0.7817228 , 0.9671384 , 0.06870162, 0.79873943,\n",
              "        0.66028714, 0.5871513 , 0.16461694, 0.7381023 , 0.32054043],\n",
              "       dtype=float32)>,\n",
              " TensorShape([50]))"
            ]
          },
          "metadata": {},
          "execution_count": 95
        }
      ]
    },
    {
      "cell_type": "markdown",
      "source": [
        "## One Hot Encoding Tensors"
      ],
      "metadata": {
        "id": "tGssbRYFfewP"
      }
    },
    {
      "cell_type": "code",
      "source": [
        "# Creat a list of indices\n",
        "some_list = [0, 1, 2, 3, 3, 2, 1]\n",
        "#depth = 5\n",
        "\n",
        "# One hot encode list of indices\n",
        "tf.one_hot(some_list, depth=5)"
      ],
      "metadata": {
        "colab": {
          "base_uri": "https://localhost:8080/"
        },
        "id": "fnXPec4BOWuB",
        "outputId": "209eb3ca-387c-40cf-fccb-289ff2b4341e"
      },
      "execution_count": 96,
      "outputs": [
        {
          "output_type": "execute_result",
          "data": {
            "text/plain": [
              "<tf.Tensor: shape=(7, 5), dtype=float32, numpy=\n",
              "array([[1., 0., 0., 0., 0.],\n",
              "       [0., 1., 0., 0., 0.],\n",
              "       [0., 0., 1., 0., 0.],\n",
              "       [0., 0., 0., 1., 0.],\n",
              "       [0., 0., 0., 1., 0.],\n",
              "       [0., 0., 1., 0., 0.],\n",
              "       [0., 1., 0., 0., 0.]], dtype=float32)>"
            ]
          },
          "metadata": {},
          "execution_count": 96
        }
      ]
    },
    {
      "cell_type": "code",
      "source": [
        "tf.one_hot(some_list, depth=5, on_value=\"On Value\", off_value=\"Off Value\")"
      ],
      "metadata": {
        "id": "VzZNQAkVOW1h",
        "colab": {
          "base_uri": "https://localhost:8080/"
        },
        "outputId": "9c6cbe85-996b-4a1d-8a84-c937f03d124a"
      },
      "execution_count": 97,
      "outputs": [
        {
          "output_type": "execute_result",
          "data": {
            "text/plain": [
              "<tf.Tensor: shape=(7, 5), dtype=string, numpy=\n",
              "array([[b'On Value', b'Off Value', b'Off Value', b'Off Value',\n",
              "        b'Off Value'],\n",
              "       [b'Off Value', b'On Value', b'Off Value', b'Off Value',\n",
              "        b'Off Value'],\n",
              "       [b'Off Value', b'Off Value', b'On Value', b'Off Value',\n",
              "        b'Off Value'],\n",
              "       [b'Off Value', b'Off Value', b'Off Value', b'On Value',\n",
              "        b'Off Value'],\n",
              "       [b'Off Value', b'Off Value', b'Off Value', b'On Value',\n",
              "        b'Off Value'],\n",
              "       [b'Off Value', b'Off Value', b'On Value', b'Off Value',\n",
              "        b'Off Value'],\n",
              "       [b'Off Value', b'On Value', b'Off Value', b'Off Value',\n",
              "        b'Off Value']], dtype=object)>"
            ]
          },
          "metadata": {},
          "execution_count": 97
        }
      ]
    },
    {
      "cell_type": "markdown",
      "source": [
        "## Math operations\n",
        "Squaring\n",
        "Log\n",
        "Square Root"
      ],
      "metadata": {
        "id": "62xhq2nChEgJ"
      }
    },
    {
      "cell_type": "code",
      "source": [
        "# Create a new tensor\n",
        "H = tf.range(1, 10)\n",
        "H"
      ],
      "metadata": {
        "colab": {
          "base_uri": "https://localhost:8080/"
        },
        "id": "peBevdErhDPi",
        "outputId": "27e74f6f-376a-4a6a-ec08-2709f91fe2b3"
      },
      "execution_count": 98,
      "outputs": [
        {
          "output_type": "execute_result",
          "data": {
            "text/plain": [
              "<tf.Tensor: shape=(9,), dtype=int32, numpy=array([1, 2, 3, 4, 5, 6, 7, 8, 9], dtype=int32)>"
            ]
          },
          "metadata": {},
          "execution_count": 98
        }
      ]
    },
    {
      "cell_type": "code",
      "source": [
        "# Squaring it\n",
        "tf.square(H)"
      ],
      "metadata": {
        "colab": {
          "base_uri": "https://localhost:8080/"
        },
        "id": "BKjsJF9EhDS0",
        "outputId": "c1b943d0-e199-4b99-bab8-47910752c570"
      },
      "execution_count": 99,
      "outputs": [
        {
          "output_type": "execute_result",
          "data": {
            "text/plain": [
              "<tf.Tensor: shape=(9,), dtype=int32, numpy=array([ 1,  4,  9, 16, 25, 36, 49, 64, 81], dtype=int32)>"
            ]
          },
          "metadata": {},
          "execution_count": 99
        }
      ]
    },
    {
      "cell_type": "code",
      "source": [
        "# Square Root - ERROR - Method requires non-int type\n",
        "#tf.sqrt(H)"
      ],
      "metadata": {
        "id": "sRVhmeW0hwHE"
      },
      "execution_count": 101,
      "outputs": []
    },
    {
      "cell_type": "code",
      "source": [
        "# Square Root\n",
        "tf.sqrt(tf.cast(H, dtype=tf.float32))"
      ],
      "metadata": {
        "colab": {
          "base_uri": "https://localhost:8080/"
        },
        "id": "yK9GbiJRhDXf",
        "outputId": "fec44cb2-64c9-4471-c7a3-496b9eed7247"
      },
      "execution_count": 102,
      "outputs": [
        {
          "output_type": "execute_result",
          "data": {
            "text/plain": [
              "<tf.Tensor: shape=(9,), dtype=float32, numpy=\n",
              "array([1.       , 1.4142135, 1.7320508, 2.       , 2.236068 , 2.4494898,\n",
              "       2.6457512, 2.828427 , 3.       ], dtype=float32)>"
            ]
          },
          "metadata": {},
          "execution_count": 102
        }
      ]
    },
    {
      "cell_type": "code",
      "source": [
        "# Log\n",
        "tf.math.log(tf.cast(H, dtype=tf.float32))"
      ],
      "metadata": {
        "colab": {
          "base_uri": "https://localhost:8080/"
        },
        "id": "31KmCGeChDsF",
        "outputId": "380aa115-e484-4d5a-8f88-201d89b1e6c5"
      },
      "execution_count": 103,
      "outputs": [
        {
          "output_type": "execute_result",
          "data": {
            "text/plain": [
              "<tf.Tensor: shape=(9,), dtype=float32, numpy=\n",
              "array([0.       , 0.6931472, 1.0986123, 1.3862944, 1.609438 , 1.7917595,\n",
              "       1.9459102, 2.0794415, 2.1972246], dtype=float32)>"
            ]
          },
          "metadata": {},
          "execution_count": 103
        }
      ]
    },
    {
      "cell_type": "markdown",
      "source": [
        "# Tensors and Numpy\n",
        "TensorFlow interacts beautifully with numpy arrays.\n"
      ],
      "metadata": {
        "id": "WbfontLfikCH"
      }
    },
    {
      "cell_type": "code",
      "source": [
        "# Create a tensor directly from a Numpy array\n",
        "J = tf.constant(np.array([3.,7.,10.]))\n",
        "J"
      ],
      "metadata": {
        "colab": {
          "base_uri": "https://localhost:8080/"
        },
        "id": "dvKxkq6xiuLL",
        "outputId": "15142965-c96b-4367-c5dc-e18dc58e6110"
      },
      "execution_count": 104,
      "outputs": [
        {
          "output_type": "execute_result",
          "data": {
            "text/plain": [
              "<tf.Tensor: shape=(3,), dtype=float64, numpy=array([ 3.,  7., 10.])>"
            ]
          },
          "metadata": {},
          "execution_count": 104
        }
      ]
    },
    {
      "cell_type": "code",
      "source": [
        "# Convert tensor J to a Numpy array\n",
        "np.array(J), type(np.array(J))"
      ],
      "metadata": {
        "colab": {
          "base_uri": "https://localhost:8080/"
        },
        "id": "5q6lfGuqiu1E",
        "outputId": "ee1a4aca-18b9-4bc0-906b-dc7ba6c03cfa"
      },
      "execution_count": 105,
      "outputs": [
        {
          "output_type": "execute_result",
          "data": {
            "text/plain": [
              "(array([ 3.,  7., 10.]), numpy.ndarray)"
            ]
          },
          "metadata": {},
          "execution_count": 105
        }
      ]
    },
    {
      "cell_type": "code",
      "source": [
        "# Convert Tensor J to a numpy array\n",
        "J.numpy(), type(J.numpy())"
      ],
      "metadata": {
        "colab": {
          "base_uri": "https://localhost:8080/"
        },
        "id": "IjnZA8GKjQkc",
        "outputId": "007b2104-0d94-48c5-ec1c-8ce8192c1d45"
      },
      "execution_count": 106,
      "outputs": [
        {
          "output_type": "execute_result",
          "data": {
            "text/plain": [
              "(array([ 3.,  7., 10.]), numpy.ndarray)"
            ]
          },
          "metadata": {},
          "execution_count": 106
        }
      ]
    },
    {
      "cell_type": "code",
      "source": [
        "J = tf.constant([3.])\n",
        "J.numpy()[0]"
      ],
      "metadata": {
        "colab": {
          "base_uri": "https://localhost:8080/"
        },
        "id": "LlHmKeSil87v",
        "outputId": "a748852e-437c-4813-86f4-9def77fdb09a"
      },
      "execution_count": 107,
      "outputs": [
        {
          "output_type": "execute_result",
          "data": {
            "text/plain": [
              "3.0"
            ]
          },
          "metadata": {},
          "execution_count": 107
        }
      ]
    },
    {
      "cell_type": "code",
      "source": [
        "# The default types of each are slightly different\n",
        "numpy_J = tf.constant(np.array([3.,7.,10.]))\n",
        "tensor_J = tf.constant([3.,7.,10.])\n",
        "\n",
        "numpy_J.dtype, tensor_J.dtype"
      ],
      "metadata": {
        "colab": {
          "base_uri": "https://localhost:8080/"
        },
        "id": "IaSacc3LjQv1",
        "outputId": "7b134236-5424-465a-f8cb-17373af537cc"
      },
      "execution_count": 108,
      "outputs": [
        {
          "output_type": "execute_result",
          "data": {
            "text/plain": [
              "(tf.float64, tf.float32)"
            ]
          },
          "metadata": {},
          "execution_count": 108
        }
      ]
    },
    {
      "cell_type": "markdown",
      "source": [
        "## Access GPUs"
      ],
      "metadata": {
        "id": "3Br_lfDxqhT4"
      }
    },
    {
      "cell_type": "code",
      "source": [
        "tf.config.list_physical_devices(\"GPU\")"
      ],
      "metadata": {
        "colab": {
          "base_uri": "https://localhost:8080/"
        },
        "id": "cVVFN70yojZ5",
        "outputId": "59206393-af49-4044-a4c0-f451d7c02e56"
      },
      "execution_count": 109,
      "outputs": [
        {
          "output_type": "execute_result",
          "data": {
            "text/plain": [
              "[]"
            ]
          },
          "metadata": {},
          "execution_count": 109
        }
      ]
    },
    {
      "cell_type": "code",
      "source": [
        "tf.config.list_physical_devices()"
      ],
      "metadata": {
        "colab": {
          "base_uri": "https://localhost:8080/"
        },
        "id": "RcL7k_O0ojdD",
        "outputId": "70ada674-fdec-4420-ae5f-755a0ec52590"
      },
      "execution_count": 110,
      "outputs": [
        {
          "output_type": "execute_result",
          "data": {
            "text/plain": [
              "[PhysicalDevice(name='/physical_device:CPU:0', device_type='CPU')]"
            ]
          },
          "metadata": {},
          "execution_count": 110
        }
      ]
    },
    {
      "cell_type": "code",
      "source": [
        "!nvidia-smi"
      ],
      "metadata": {
        "colab": {
          "base_uri": "https://localhost:8080/"
        },
        "id": "VE7Nk5e3ojh7",
        "outputId": "e9abf9e9-7921-4519-a35e-984653184053"
      },
      "execution_count": 111,
      "outputs": [
        {
          "output_type": "stream",
          "name": "stdout",
          "text": [
            "/bin/bash: line 1: nvidia-smi: command not found\n"
          ]
        }
      ]
    },
    {
      "cell_type": "markdown",
      "source": [
        "If you have a CUDA-enabled GPU, TensorFlow will automatically use it whenever possible."
      ],
      "metadata": {
        "id": "EBkl1jwgtVSJ"
      }
    },
    {
      "cell_type": "markdown",
      "source": [
        "## 00. TensorFlow Fundamentals Exercises\n",
        "\n"
      ],
      "metadata": {
        "id": "TtcLwR-KSWB8"
      }
    },
    {
      "cell_type": "markdown",
      "source": [
        "Create a vector, scalar, matrix and tensor with values of your choosing using tf.constant().\n"
      ],
      "metadata": {
        "id": "63r_JS13SdDH"
      }
    },
    {
      "cell_type": "code",
      "source": [
        "s = tf.constant(9)\n",
        "v = tf.constant([3,4,5])\n",
        "m = tf.constant([[3,4,9],[10,34,2]])\n",
        "t = tf.constant([[[2,3],[5,6]],[[4,5],[7,8]],[[35,72],[4,0]]])"
      ],
      "metadata": {
        "id": "57KyVb-_Sscr"
      },
      "execution_count": 112,
      "outputs": []
    },
    {
      "cell_type": "code",
      "source": [
        "print(s)\n",
        "print(v)\n",
        "print(m)\n",
        "print(t)"
      ],
      "metadata": {
        "colab": {
          "base_uri": "https://localhost:8080/"
        },
        "id": "Kz1JEfDrUhxG",
        "outputId": "4b958a15-23ae-417e-e477-8bf1ec235d89"
      },
      "execution_count": 113,
      "outputs": [
        {
          "output_type": "stream",
          "name": "stdout",
          "text": [
            "tf.Tensor(9, shape=(), dtype=int32)\n",
            "tf.Tensor([3 4 5], shape=(3,), dtype=int32)\n",
            "tf.Tensor(\n",
            "[[ 3  4  9]\n",
            " [10 34  2]], shape=(2, 3), dtype=int32)\n",
            "tf.Tensor(\n",
            "[[[ 2  3]\n",
            "  [ 5  6]]\n",
            "\n",
            " [[ 4  5]\n",
            "  [ 7  8]]\n",
            "\n",
            " [[35 72]\n",
            "  [ 4  0]]], shape=(3, 2, 2), dtype=int32)\n"
          ]
        }
      ]
    },
    {
      "cell_type": "markdown",
      "source": [
        "Find the shape, rank and size of the tensors you created in 1.\n"
      ],
      "metadata": {
        "id": "Xi4cWpBUSdF9"
      }
    },
    {
      "cell_type": "code",
      "source": [
        "print(tf.rank(s))\n",
        "print(tf.rank(v))\n",
        "print(tf.rank(m))\n",
        "print(tf.rank(t))\n",
        "\n",
        "print(tf.shape(s))\n",
        "print(tf.shape(v))\n",
        "print(tf.shape(m))\n",
        "print(tf.shape(t))\n",
        "\n",
        "print(tf.size(s))\n",
        "print(tf.size(v))\n",
        "print(tf.size(m))\n",
        "print(tf.size(t))"
      ],
      "metadata": {
        "colab": {
          "base_uri": "https://localhost:8080/"
        },
        "id": "SKUV3TvcSs9R",
        "outputId": "800c9079-e62f-4deb-fbf9-157f3cb85c48"
      },
      "execution_count": 114,
      "outputs": [
        {
          "output_type": "stream",
          "name": "stdout",
          "text": [
            "tf.Tensor(0, shape=(), dtype=int32)\n",
            "tf.Tensor(1, shape=(), dtype=int32)\n",
            "tf.Tensor(2, shape=(), dtype=int32)\n",
            "tf.Tensor(3, shape=(), dtype=int32)\n",
            "tf.Tensor([], shape=(0,), dtype=int32)\n",
            "tf.Tensor([3], shape=(1,), dtype=int32)\n",
            "tf.Tensor([2 3], shape=(2,), dtype=int32)\n",
            "tf.Tensor([3 2 2], shape=(3,), dtype=int32)\n",
            "tf.Tensor(1, shape=(), dtype=int32)\n",
            "tf.Tensor(3, shape=(), dtype=int32)\n",
            "tf.Tensor(6, shape=(), dtype=int32)\n",
            "tf.Tensor(12, shape=(), dtype=int32)\n"
          ]
        }
      ]
    },
    {
      "cell_type": "markdown",
      "source": [
        "Create two tensors containing random values between 0 and 1 with shape [5, 300].\n"
      ],
      "metadata": {
        "id": "I1KMxd7GSdIl"
      }
    },
    {
      "cell_type": "code",
      "source": [
        "t1 = tf.constant(np.random.uniform(0, 1, size=1500))\n",
        "t2 = tf.constant(np.random.uniform(0, 1, size=1500))\n",
        "\n",
        "t1 = tf.reshape(t1, [5,300])\n",
        "t2 = tf.reshape(t2, [5,300])\n",
        "\n",
        "print(t1)\n",
        "print(t2)"
      ],
      "metadata": {
        "colab": {
          "base_uri": "https://localhost:8080/"
        },
        "id": "wAsIlHiKStbG",
        "outputId": "092e041c-cd4a-414f-825c-27f417563bfa"
      },
      "execution_count": 115,
      "outputs": [
        {
          "output_type": "stream",
          "name": "stdout",
          "text": [
            "tf.Tensor(\n",
            "[[0.4069949  0.53684251 0.14238215 ... 0.24977298 0.58546179 0.66002733]\n",
            " [0.00335124 0.13102531 0.08620931 ... 0.01789149 0.95399256 0.98389723]\n",
            " [0.86319407 0.94825555 0.11908623 ... 0.56181411 0.71115917 0.34793821]\n",
            " [0.42574811 0.34573557 0.60202567 ... 0.73167444 0.97633279 0.49281063]\n",
            " [0.27120611 0.53540606 0.20153139 ... 0.52251107 0.97807281 0.8861698 ]], shape=(5, 300), dtype=float64)\n",
            "tf.Tensor(\n",
            "[[0.29146413 0.20990932 0.20294974 ... 0.74078507 0.90201491 0.16173156]\n",
            " [0.55925669 0.05484863 0.30988971 ... 0.67623969 0.93489518 0.2827934 ]\n",
            " [0.51874127 0.54265112 0.60839857 ... 0.05049709 0.52528373 0.83648057]\n",
            " [0.90782793 0.13803958 0.06629649 ... 0.60391107 0.49748638 0.64829135]\n",
            " [0.98025053 0.4529264  0.01867876 ... 0.87755666 0.23167756 0.26741406]], shape=(5, 300), dtype=float64)\n"
          ]
        }
      ]
    },
    {
      "cell_type": "markdown",
      "source": [
        "Multiply the two tensors you created in 3 using matrix multiplication.\n"
      ],
      "metadata": {
        "id": "6Gwa4fGnSdLZ"
      }
    },
    {
      "cell_type": "code",
      "source": [
        "tf.matmul(t1, tf.reshape(t2, [300, 5]))"
      ],
      "metadata": {
        "colab": {
          "base_uri": "https://localhost:8080/"
        },
        "id": "nQSDDbHpSt5F",
        "outputId": "fa7a051a-caae-43ea-8aa5-6e4588976993"
      },
      "execution_count": 116,
      "outputs": [
        {
          "output_type": "execute_result",
          "data": {
            "text/plain": [
              "<tf.Tensor: shape=(5, 5), dtype=float64, numpy=\n",
              "array([[74.64757753, 79.25756781, 74.53900912, 74.7743488 , 74.17727773],\n",
              "       [79.75909003, 79.29288299, 75.83705478, 78.17796576, 75.96707758],\n",
              "       [77.90406047, 85.67014147, 82.17699277, 78.06651406, 79.78776596],\n",
              "       [77.73520857, 83.46157216, 75.39775854, 76.56051154, 79.90070889],\n",
              "       [73.09389525, 83.2264154 , 74.90715515, 75.95254101, 78.59809838]])>"
            ]
          },
          "metadata": {},
          "execution_count": 116
        }
      ]
    },
    {
      "cell_type": "markdown",
      "source": [
        "Multiply the two tensors you created in 3 using dot product.\n"
      ],
      "metadata": {
        "id": "SrhhLYp_Sdbv"
      }
    },
    {
      "cell_type": "code",
      "source": [
        "tf.tensordot(t1, t2, axes=0)"
      ],
      "metadata": {
        "colab": {
          "base_uri": "https://localhost:8080/"
        },
        "id": "zh6vGMx1SuT1",
        "outputId": "68e375b7-db87-4acb-e8b1-3fde11b70539"
      },
      "execution_count": 117,
      "outputs": [
        {
          "output_type": "execute_result",
          "data": {
            "text/plain": [
              "<tf.Tensor: shape=(5, 300, 5, 300), dtype=float64, numpy=\n",
              "array([[[[1.18624413e-01, 8.54320201e-02, 8.25995097e-02, ...,\n",
              "          3.01495742e-01, 3.67115465e-01, 6.58239208e-02],\n",
              "         [2.27614617e-01, 2.23231112e-02, 1.26123531e-01, ...,\n",
              "          2.75226103e-01, 3.80497565e-01, 1.15095469e-01],\n",
              "         [2.11125050e-01, 2.20856237e-01, 2.47615114e-01, ...,\n",
              "          2.05520589e-02, 2.13787795e-01, 3.40443321e-01],\n",
              "         [3.69481333e-01, 5.61814032e-02, 2.69823328e-02, ...,\n",
              "          2.45788724e-01, 2.02474416e-01, 2.63851271e-01],\n",
              "         [3.98956963e-01, 1.84338731e-01, 7.60215798e-03, ...,\n",
              "          3.57161082e-01, 9.42915830e-02, 1.08836157e-01]],\n",
              "\n",
              "        [[1.56470335e-01, 1.12688244e-01, 1.08952050e-01, ...,\n",
              "          3.97684917e-01, 4.84239951e-01, 8.68243788e-02],\n",
              "         [3.00232765e-01, 2.94450747e-02, 1.66361971e-01, ...,\n",
              "          3.63034215e-01, 5.01891475e-01, 1.51815517e-01],\n",
              "         [2.78482368e-01, 2.91318192e-01, 3.26614218e-01, ...,\n",
              "          2.71089860e-02, 2.81994634e-01, 4.49058329e-01],\n",
              "         [4.87360625e-01, 7.41055132e-02, 3.55907739e-02, ...,\n",
              "          3.24205138e-01, 2.67071835e-01, 3.48030358e-01],\n",
              "         [5.26240158e-01, 2.43150144e-01, 1.00275498e-02, ...,\n",
              "          4.71109722e-01, 1.24374361e-01, 1.43559235e-01]],\n",
              "\n",
              "        [[4.14992894e-02, 2.98873397e-02, 2.88964209e-02, ...,\n",
              "          1.05474571e-01, 1.28430823e-01, 2.30276878e-02],\n",
              "         [7.96281696e-02, 7.80946545e-03, 4.41227635e-02, ...,\n",
              "          9.62844614e-02, 1.33112385e-01, 4.02647317e-02],\n",
              "         [7.38594977e-02, 7.72638337e-02, 8.66250970e-02, ...,\n",
              "          7.18988462e-03, 7.47910262e-02, 1.19099902e-01],\n",
              "         [1.29258492e-01, 1.96543718e-02, 9.43943671e-03, ...,\n",
              "          8.59861571e-02, 7.08331798e-02, 9.23051166e-02],\n",
              "         [1.39570178e-01, 6.44886340e-02, 2.65952131e-03, ...,\n",
              "          1.24948404e-01, 3.29867487e-02, 3.80749887e-02]],\n",
              "\n",
              "        ...,\n",
              "\n",
              "        [[7.27998633e-02, 5.24296747e-02, 5.06913616e-02, ...,\n",
              "          1.85028092e-01, 2.25298950e-01, 4.03961741e-02],\n",
              "         [1.39687208e-01, 1.36997049e-02, 7.74020760e-02, ...,\n",
              "          1.68906401e-01, 2.33511551e-01, 7.06341483e-02],\n",
              "         [1.29567552e-01, 1.35539586e-01, 1.51961523e-01, ...,\n",
              "          1.26128092e-02, 1.31201680e-01, 2.08930242e-01],\n",
              "         [2.26750884e-01, 3.44785561e-02, 1.65590715e-02, ...,\n",
              "          1.50840667e-01, 1.24258653e-01, 1.61925661e-01],\n",
              "         [2.44840094e-01, 1.13128774e-01, 4.66544827e-03, ...,\n",
              "          2.19189940e-01, 5.78667931e-02, 6.67928056e-02]],\n",
              "\n",
              "        [[1.70641111e-01, 1.22893884e-01, 1.18819320e-01, ...,\n",
              "          4.33701353e-01, 5.28095266e-01, 9.46876509e-02],\n",
              "         [3.27423422e-01, 3.21117755e-02, 1.81428586e-01, ...,\n",
              "          3.95912502e-01, 5.47345405e-01, 1.65564728e-01],\n",
              "         [3.03703195e-01, 3.17701499e-01, 3.56194118e-01, ...,\n",
              "          2.95641183e-02, 3.07533551e-01, 4.89727412e-01],\n",
              "         [5.31498565e-01, 8.08168980e-02, 3.88140615e-02, ...,\n",
              "          3.53566859e-01, 2.91259265e-01, 3.79549816e-01],\n",
              "         [5.73899233e-01, 2.65171099e-01, 1.09356974e-02, ...,\n",
              "          5.13775895e-01, 1.35638357e-01, 1.56560714e-01]],\n",
              "\n",
              "        [[1.92374293e-01, 1.38545886e-01, 1.33952378e-01, ...,\n",
              "          4.88938395e-01, 5.95354498e-01, 1.06747253e-01],\n",
              "         [3.69124701e-01, 3.62015932e-02, 2.04535681e-01, ...,\n",
              "          4.46336682e-01, 6.17056372e-01, 1.86651371e-01],\n",
              "         [3.42383420e-01, 3.58164575e-01, 4.01559689e-01, ...,\n",
              "          3.33294615e-02, 3.46701617e-01, 5.52100040e-01],\n",
              "         [5.99191248e-01, 9.11098941e-02, 4.37574952e-02, ...,\n",
              "          3.98597816e-01, 3.28354607e-01, 4.27890013e-01],\n",
              "         [6.46992147e-01, 2.98943802e-01, 1.23284890e-02, ...,\n",
              "          5.79211384e-01, 1.52913520e-01, 1.76500589e-01]]],\n",
              "\n",
              "\n",
              "       [[[9.76766829e-04, 7.03456913e-04, 6.80133702e-04, ...,\n",
              "          2.48255003e-03, 3.02287025e-03, 5.42001607e-04],\n",
              "         [1.87420449e-03, 1.83811022e-04, 1.03851542e-03, ...,\n",
              "          2.26624285e-03, 3.13305997e-03, 9.47709102e-04],\n",
              "         [1.73842753e-03, 1.81855523e-03, 2.03889084e-03, ...,\n",
              "          1.69227977e-04, 1.76035288e-03, 2.80324880e-03],\n",
              "         [3.04235107e-03, 4.62604027e-04, 2.22175579e-04, ...,\n",
              "          2.02385215e-03, 1.66719723e-03, 2.17258120e-03],\n",
              "         [3.28505675e-03, 1.51786595e-03, 6.25970284e-05, ...,\n",
              "          2.94090473e-03, 7.76407557e-04, 8.96169223e-04]],\n",
              "\n",
              "        [[3.81891784e-02, 2.75034335e-02, 2.65915534e-02, ...,\n",
              "          9.70615945e-02, 1.18186785e-01, 2.11909285e-02],\n",
              "         [7.32767818e-02, 7.18655846e-03, 4.06033961e-02, ...,\n",
              "          8.86045165e-02, 1.22494932e-01, 3.70530928e-02],\n",
              "         [6.79682369e-02, 7.11010326e-02, 7.97156127e-02, ...,\n",
              "          6.61639731e-03, 6.88254639e-02, 1.09600127e-01],\n",
              "         [1.18948437e-01, 1.80866786e-02, 8.68651820e-03, ...,\n",
              "          7.91276367e-02, 6.51833075e-02, 8.49425765e-02],\n",
              "         [1.28437632e-01, 5.93448221e-02, 2.44738971e-03, ...,\n",
              "          1.14982135e-01, 3.03556241e-02, 3.50380104e-02]],\n",
              "\n",
              "        [[2.51269222e-02, 1.80961378e-02, 1.74961579e-02, ...,\n",
              "          6.38625715e-02, 7.77620854e-02, 1.39427669e-02],\n",
              "         [4.82131345e-02, 4.72846243e-03, 2.67153790e-02, ...,\n",
              "          5.82981590e-02, 8.05966704e-02, 2.43794242e-02],\n",
              "         [4.47203285e-02, 4.67815802e-02, 5.24496227e-02, ...,\n",
              "          4.35331964e-03, 4.52843488e-02, 7.21124147e-02],\n",
              "         [7.82632215e-02, 1.19002970e-02, 5.71537478e-03, ...,\n",
              "          5.20627585e-02, 4.28879584e-02, 5.58887517e-02],\n",
              "         [8.45067245e-02, 3.90464731e-02, 1.61028264e-03, ...,\n",
              "          7.56535564e-02, 1.99727629e-02, 2.30535822e-02]],\n",
              "\n",
              "        ...,\n",
              "\n",
              "        [[5.21472757e-03, 3.75559044e-03, 3.63107332e-03, ...,\n",
              "          1.32537487e-02, 1.61383908e-02, 2.89361866e-03],\n",
              "         [1.00059355e-02, 9.81323666e-04, 5.54438870e-03, ...,\n",
              "          1.20989357e-02, 1.67266678e-02, 5.05959523e-03],\n",
              "         [9.28105431e-03, 9.70883717e-03, 1.08851570e-02, ...,\n",
              "          9.03468231e-04, 9.39810855e-03, 1.49658838e-02],\n",
              "         [1.62423943e-02, 2.46973372e-03, 1.18614298e-03, ...,\n",
              "          1.08048690e-02, 8.90077254e-03, 1.15988983e-02],\n",
              "         [1.75381427e-02, 8.10352809e-03, 3.34190761e-04, ...,\n",
              "          1.57007963e-02, 4.14505670e-03, 4.78443597e-03]],\n",
              "\n",
              "        [[2.78054612e-01, 2.00251926e-01, 1.93612546e-01, ...,\n",
              "          7.06703447e-01, 8.60515519e-01, 1.54290709e-01],\n",
              "         [5.33526721e-01, 5.23251824e-02, 2.95632481e-01, ...,\n",
              "          6.45127638e-01, 8.91883047e-01, 2.69782797e-01],\n",
              "         [4.94875317e-01, 5.17685136e-01, 5.80407715e-01, ...,\n",
              "          4.81738509e-02, 5.01116768e-01, 7.97996242e-01],\n",
              "         [8.66061093e-01, 1.31688730e-01, 6.32463580e-02, ...,\n",
              "          5.76126674e-01, 4.74598303e-01, 6.18465129e-01],\n",
              "         [9.35151719e-01, 4.32088413e-01, 1.78193935e-02, ...,\n",
              "          8.37182529e-01, 2.21018667e-01, 2.55111024e-01]],\n",
              "\n",
              "        [[2.86770749e-01, 2.06529194e-01, 1.99681690e-01, ...,\n",
              "          7.28856376e-01, 8.87489971e-01, 1.59127237e-01],\n",
              "         [5.50251105e-01, 5.39654121e-02, 3.04899629e-01, ...,\n",
              "          6.65350359e-01, 9.19840773e-01, 2.78239638e-01],\n",
              "         [5.10388100e-01, 5.33912936e-01, 5.98601670e-01, ...,\n",
              "          4.96839495e-02, 5.16825201e-01, 8.23010913e-01],\n",
              "         [8.93209382e-01, 1.35816757e-01, 6.52289322e-02, ...,\n",
              "          5.94186431e-01, 4.89475466e-01, 6.37852064e-01],\n",
              "         [9.64465782e-01, 4.45633025e-01, 1.83779754e-02, ...,\n",
              "          8.63425566e-01, 2.27946906e-01, 2.63107951e-01]]],\n",
              "\n",
              "\n",
              "       [[[2.51590107e-01, 1.81192476e-01, 1.75185014e-01, ...,\n",
              "          6.39441275e-01, 7.78613919e-01, 1.39605726e-01],\n",
              "         [4.82747054e-01, 4.73450094e-02, 2.67494961e-01, ...,\n",
              "          5.83726089e-01, 8.06995968e-01, 2.44105581e-01],\n",
              "         [4.47774388e-01, 4.68413229e-01, 5.25166038e-01, ...,\n",
              "          4.35887907e-02, 4.53421794e-01, 7.22045062e-01],\n",
              "         [7.83631680e-01, 1.19154944e-01, 5.72267363e-02, ...,\n",
              "          5.21292455e-01, 4.29427287e-01, 5.59601248e-01],\n",
              "         [8.46146442e-01, 3.90963376e-01, 1.61233906e-02, ...,\n",
              "          7.57501702e-01, 1.99982692e-01, 2.30830229e-01]],\n",
              "\n",
              "        [[2.76382479e-01, 1.99047674e-01, 1.92448221e-01, ...,\n",
              "          7.02453554e-01, 8.55340647e-01, 1.53362853e-01],\n",
              "         [5.30318258e-01, 5.20105151e-02, 2.93854640e-01, ...,\n",
              "          6.41248042e-01, 8.86519541e-01, 2.68160407e-01],\n",
              "         [4.91899291e-01, 5.14571940e-01, 5.76917324e-01, ...,\n",
              "          4.78841484e-02, 4.98103208e-01, 7.93197342e-01],\n",
              "         [8.60852872e-01, 1.30896795e-01, 6.28660141e-02, ...,\n",
              "          5.72662028e-01, 4.71744217e-01, 6.14745873e-01],\n",
              "         [9.29528009e-01, 4.29489969e-01, 1.77122332e-02, ...,\n",
              "          8.32147975e-01, 2.19689529e-01, 2.53576866e-01]],\n",
              "\n",
              "        [[3.47093636e-02, 2.49973085e-02, 2.41685193e-02, ...,\n",
              "          8.82172992e-02, 1.07417553e-01, 1.92600018e-02],\n",
              "         [6.65997691e-02, 6.53171608e-03, 3.69035967e-02, ...,\n",
              "          8.05308338e-02, 1.11333140e-01, 3.36767986e-02],\n",
              "         [6.17749411e-02, 6.46222751e-02, 7.24518908e-02, ...,\n",
              "          6.01350826e-03, 6.25540572e-02, 9.96133152e-02],\n",
              "         [1.08109803e-01, 1.64386125e-02, 7.89499882e-03, ...,\n",
              "          7.19174915e-02, 5.92437757e-02, 7.72025714e-02],\n",
              "         [1.16734338e-01, 5.39372957e-02, 2.22438248e-03, ...,\n",
              "          1.04504912e-01, 2.75896062e-02, 3.18453314e-02]],\n",
              "\n",
              "        ...,\n",
              "\n",
              "        [[1.63748660e-01, 1.17930015e-01, 1.14020029e-01, ...,\n",
              "          4.16183502e-01, 5.06764703e-01, 9.08630740e-02],\n",
              "         [3.14198297e-01, 3.08147325e-02, 1.74100412e-01, ...,\n",
              "          3.79920999e-01, 5.25237299e-01, 1.58877319e-01],\n",
              "         [2.91436165e-01, 3.04869056e-01, 3.41806901e-01, ...,\n",
              "          2.83699790e-02, 2.95111807e-01, 4.69946584e-01],\n",
              "         [5.10030537e-01, 7.75525818e-02, 3.72463031e-02, ...,\n",
              "          3.39285761e-01, 2.79494864e-01, 3.64219227e-01],\n",
              "         [5.50718578e-01, 2.54460439e-01, 1.04939881e-02, ...,\n",
              "          4.93023713e-01, 1.30159720e-01, 1.50236991e-01]],\n",
              "\n",
              "        [[2.07277389e-01, 1.49278935e-01, 1.44329571e-01, ...,\n",
              "          5.26816095e-01, 6.41476177e-01, 1.15016885e-01],\n",
              "         [3.97720522e-01, 3.90061041e-02, 2.20380911e-01, ...,\n",
              "          4.80914059e-01, 6.64859279e-01, 2.01111117e-01],\n",
              "         [3.68907613e-01, 3.85911323e-01, 4.32668225e-01, ...,\n",
              "          3.59114705e-02, 3.73560338e-01, 5.94870827e-01],\n",
              "         [6.45610156e-01, 9.81681111e-02, 4.71473565e-02, ...,\n",
              "          4.29476898e-01, 3.53791998e-01, 4.61038340e-01],\n",
              "         [6.97114156e-01, 3.22102760e-01, 1.32835680e-02, ...,\n",
              "          6.24082467e-01, 1.64759619e-01, 1.90173960e-01]],\n",
              "\n",
              "        [[1.01411508e-01, 7.30354720e-02, 7.06139709e-02, ...,\n",
              "          2.57747432e-01, 3.13845456e-01, 5.62725910e-02],\n",
              "         [1.94586772e-01, 1.90839332e-02, 1.07822472e-01, ...,\n",
              "          2.35289629e-01, 3.25285756e-01, 9.83946285e-02],\n",
              "         [1.80489911e-01, 1.88809061e-01, 2.11685112e-01, ...,\n",
              "          1.75698681e-02, 1.82766280e-01, 2.91043553e-01],\n",
              "         [3.15868026e-01, 4.80292436e-02, 2.30670820e-02, ...,\n",
              "          2.10123739e-01, 1.73094520e-01, 2.25565334e-01],\n",
              "         [3.41066618e-01, 1.57590400e-01, 6.49905265e-03, ...,\n",
              "          3.05335496e-01, 8.06094749e-02, 9.30435695e-02]]],\n",
              "\n",
              "\n",
              "       [[[1.24090301e-01, 8.93684937e-02, 8.64054690e-02, ...,\n",
              "          3.15387840e-01, 3.84031141e-01, 6.88569069e-02],\n",
              "         [2.38102476e-01, 2.33516991e-02, 1.31934958e-01, ...,\n",
              "          2.87907769e-01, 3.98029851e-01, 1.20398753e-01],\n",
              "         [2.20853114e-01, 2.31032688e-01, 2.59024540e-01, ...,\n",
              "          2.14990416e-02, 2.23638551e-01, 3.56130018e-01],\n",
              "         [3.86506021e-01, 5.87700885e-02, 2.82256048e-02, ...,\n",
              "          2.57113996e-01, 2.11803882e-01, 2.76008815e-01],\n",
              "         [4.17339808e-01, 1.92832555e-01, 7.95244462e-03, ...,\n",
              "          3.73618087e-01, 9.86362811e-02, 1.13851029e-01]],\n",
              "\n",
              "        [[1.00769518e-01, 7.25731176e-02, 7.01669459e-02, ...,\n",
              "          2.56115750e-01, 3.11858643e-01, 5.59163548e-02],\n",
              "         [1.93354931e-01, 1.89631215e-02, 1.07139897e-01, ...,\n",
              "          2.33800118e-01, 3.23226520e-01, 9.77717368e-02],\n",
              "         [1.79347311e-01, 1.87613797e-01, 2.10345029e-01, ...,\n",
              "          1.74586413e-02, 1.81609270e-01, 2.89201089e-01],\n",
              "         [3.13868409e-01, 4.77251923e-02, 2.29210548e-02, ...,\n",
              "          2.08793541e-01, 1.71998737e-01, 2.24137382e-01],\n",
              "         [3.38907480e-01, 1.56592767e-01, 6.45791010e-03, ...,\n",
              "          3.03402555e-01, 8.00991729e-02, 9.24545529e-02]],\n",
              "\n",
              "        [[1.75468888e-01, 1.26370797e-01, 1.22180956e-01, ...,\n",
              "          4.45971628e-01, 5.43036133e-01, 9.73665531e-02],\n",
              "         [3.36686883e-01, 3.30202815e-02, 1.86561562e-01, ...,\n",
              "          4.07113655e-01, 5.62830896e-01, 1.70248884e-01],\n",
              "         [3.12295563e-01, 3.26689907e-01, 3.66271559e-01, ...,\n",
              "          3.04005461e-02, 3.16234287e-01, 5.03582776e-01],\n",
              "         [5.46535718e-01, 8.31033690e-02, 3.99121886e-02, ...,\n",
              "          3.63569970e-01, 2.99499569e-01, 3.90288036e-01],\n",
              "         [5.90135985e-01, 2.72673317e-01, 1.12450901e-02, ...,\n",
              "          5.28311638e-01, 1.39475837e-01, 1.60990128e-01]],\n",
              "\n",
              "        ...,\n",
              "\n",
              "        [[2.13256853e-01, 1.53585281e-01, 1.48493140e-01, ...,\n",
              "          5.42013499e-01, 6.59981254e-01, 1.18334851e-01],\n",
              "         [4.09193823e-01, 4.01313384e-02, 2.26738381e-01, ...,\n",
              "          4.94787297e-01, 6.84038904e-01, 2.06912699e-01],\n",
              "         [3.79549729e-01, 3.97043956e-01, 4.45149684e-01, ...,\n",
              "          3.69474319e-02, 3.84336675e-01, 6.12031450e-01],\n",
              "         [6.64234489e-01, 1.01000030e-01, 4.85074467e-02, ...,\n",
              "          4.41866296e-01, 3.63998065e-01, 4.74338211e-01],\n",
              "         [7.17224258e-01, 3.31394666e-01, 1.36667677e-02, ...,\n",
              "          6.42085777e-01, 1.69512546e-01, 1.95660031e-01]],\n",
              "\n",
              "        [[2.84565986e-01, 2.04941347e-01, 1.98146489e-01, ...,\n",
              "          7.23252751e-01, 8.80666733e-01, 1.57903828e-01],\n",
              "         [5.46020640e-01, 5.35505129e-02, 3.02555486e-01, ...,\n",
              "          6.60234984e-01, 9.12768814e-01, 2.76100464e-01],\n",
              "         [5.06464112e-01, 5.29808083e-01, 5.93999475e-01, ...,\n",
              "          4.93019672e-02, 5.12851724e-01, 8.16683405e-01],\n",
              "         [8.86342171e-01, 1.34772565e-01, 6.47274363e-02, ...,\n",
              "          5.89618182e-01, 4.85712260e-01, 6.32948102e-01],\n",
              "         [9.57050735e-01, 4.42206890e-01, 1.82366810e-02, ...,\n",
              "          8.56787341e-01, 2.26194395e-01, 2.61085113e-01]],\n",
              "\n",
              "        [[1.43636621e-01, 1.03445542e-01, 1.00015791e-01, ...,\n",
              "          3.65066756e-01, 4.44522537e-01, 7.97030337e-02],\n",
              "         [2.75607641e-01, 2.70299865e-02, 1.52716944e-01, ...,\n",
              "          3.33258109e-01, 4.60726281e-01, 1.39363592e-01],\n",
              "         [2.55641213e-01, 2.67424242e-01, 2.99825284e-01, ...,\n",
              "          2.48855040e-02, 2.58865404e-01, 4.12226516e-01],\n",
              "         [4.47387253e-01, 6.80273709e-02, 3.26716147e-02, ...,\n",
              "          2.97613797e-01, 2.45166574e-01, 3.19484870e-01],\n",
              "         [4.83077883e-01, 2.23206942e-01, 9.20508907e-03, ...,\n",
              "          4.32469251e-01, 1.14173163e-01, 1.31784491e-01]]],\n",
              "\n",
              "\n",
              "       [[[7.90468525e-02, 5.69286888e-02, 5.50412103e-02, ...,\n",
              "          2.00905436e-01, 2.44631955e-01, 4.38625880e-02],\n",
              "         [1.51673830e-01, 1.48752827e-02, 8.40439831e-02, ...,\n",
              "          1.83400336e-01, 2.53549283e-01, 7.66952965e-02],\n",
              "         [1.40685802e-01, 1.47170300e-01, 1.65001410e-01, ...,\n",
              "          1.36951200e-02, 1.42460155e-01, 2.26858640e-01],\n",
              "         [2.46208480e-01, 3.74371766e-02, 1.79800129e-02, ...,\n",
              "          1.63784372e-01, 1.34921344e-01, 1.75820575e-01],\n",
              "         [2.65849933e-01, 1.22836405e-01, 5.06579249e-03, ...,\n",
              "          2.37998728e-01, 6.28323687e-02, 7.25243264e-02]],\n",
              "\n",
              "        [[1.56051661e-01, 1.12386720e-01, 1.08660523e-01, ...,\n",
              "          3.96620816e-01, 4.82944251e-01, 8.65920593e-02],\n",
              "         [2.99429420e-01, 2.93662874e-02, 1.65916830e-01, ...,\n",
              "          3.62062830e-01, 5.00548544e-01, 1.51409298e-01],\n",
              "         [2.77737221e-01, 2.90538700e-01, 3.25740283e-01, ...,\n",
              "          2.70364495e-02, 2.81240090e-01, 4.47856766e-01],\n",
              "         [4.86056575e-01, 7.39072261e-02, 3.54955423e-02, ...,\n",
              "          3.23337649e-01, 2.66357221e-01, 3.47099119e-01],\n",
              "         [5.24832076e-01, 2.42499537e-01, 1.00007187e-02, ...,\n",
              "          4.69849155e-01, 1.24041568e-01, 1.43175108e-01]],\n",
              "\n",
              "        [[5.87391726e-02, 4.23033172e-02, 4.09007449e-02, ...,\n",
              "          1.49291448e-01, 1.81784323e-01, 3.25939876e-02],\n",
              "         [1.12707780e-01, 1.10537203e-02, 6.24525059e-02, ...,\n",
              "          1.36283528e-01, 1.88410729e-01, 5.69917475e-02],\n",
              "         [1.04542652e-01, 1.09361238e-01, 1.22611413e-01, ...,\n",
              "          1.01767495e-02, 1.05861162e-01, 1.68577096e-01],\n",
              "         [1.82955829e-01, 2.78193085e-02, 1.33608240e-02, ...,\n",
              "          1.21707041e-01, 1.00259123e-01, 1.30651060e-01],\n",
              "         [1.97551257e-01, 9.12788882e-02, 3.76435557e-03, ...,\n",
              "          1.76855218e-01, 4.66903012e-02, 5.38923283e-02]],\n",
              "\n",
              "        ...,\n",
              "\n",
              "        [[1.52293235e-01, 1.09679942e-01, 1.06043488e-01, ...,\n",
              "          3.87068400e-01, 4.71312778e-01, 8.45065325e-02],\n",
              "         [2.92217811e-01, 2.86590149e-02, 1.61920806e-01, ...,\n",
              "          3.53342726e-01, 4.88493080e-01, 1.47762680e-01],\n",
              "         [2.71048058e-01, 2.83541220e-01, 3.17894990e-01, ...,\n",
              "          2.63852900e-02, 2.74466562e-01, 4.37070358e-01],\n",
              "         [4.74350143e-01, 7.21272073e-02, 3.46406497e-02, ...,\n",
              "          3.15550222e-01, 2.59942139e-01, 3.38739409e-01],\n",
              "         [5.12191756e-01, 2.36659056e-01, 9.75985634e-03, ...,\n",
              "          4.58533071e-01, 1.21054088e-01, 1.39726806e-01]],\n",
              "\n",
              "        [[2.85073140e-01, 2.05306594e-01, 1.98499626e-01, ...,\n",
              "          7.24541732e-01, 8.82236258e-01, 1.58185245e-01],\n",
              "         [5.46993759e-01, 5.36459507e-02, 3.03094701e-01, ...,\n",
              "          6.61411655e-01, 9.14395551e-01, 2.76592531e-01],\n",
              "         [5.07366733e-01, 5.30752308e-01, 5.95058101e-01, ...,\n",
              "          4.93898332e-02, 5.13765728e-01, 8.18138898e-01],\n",
              "         [8.87921811e-01, 1.35012757e-01, 6.48427936e-02, ...,\n",
              "          5.90669000e-01, 4.86577897e-01, 6.34076143e-01],\n",
              "         [9.58756391e-01, 4.42994991e-01, 1.82691825e-02, ...,\n",
              "          8.58314308e-01, 2.26597519e-01, 2.61550419e-01]],\n",
              "\n",
              "        [[2.58286709e-01, 1.86015296e-01, 1.79847934e-01, ...,\n",
              "          6.56461356e-01, 7.99338374e-01, 1.43321627e-01],\n",
              "         [4.95596387e-01, 4.86051969e-02, 2.74614904e-01, ...,\n",
              "          5.99263193e-01, 8.28475872e-01, 2.50602967e-01],\n",
              "         [4.59692850e-01, 4.80881037e-01, 5.39144442e-01, ...,\n",
              "          4.47489985e-02, 4.65490574e-01, 7.41263818e-01],\n",
              "         [8.04489693e-01, 1.22326504e-01, 5.87499468e-02, ...,\n",
              "          5.35167755e-01, 4.40857402e-01, 5.74496218e-01],\n",
              "         [8.68668418e-01, 4.01369693e-01, 1.65525487e-02, ...,\n",
              "          7.77664211e-01, 2.05305654e-01, 2.36974263e-01]]]])>"
            ]
          },
          "metadata": {},
          "execution_count": 117
        }
      ]
    },
    {
      "cell_type": "markdown",
      "source": [
        "Create a tensor with random values between 0 and 1 with shape [224, 224, 3].\n"
      ],
      "metadata": {
        "id": "1TQXwhn-Sdeh"
      }
    },
    {
      "cell_type": "code",
      "source": [
        "t3 = tf.constant(np.random.uniform(0, 1, size=(224*224*3)))\n",
        "\n",
        "t3 = tf.reshape(t3, [224,224,3])\n",
        "\n",
        "t3"
      ],
      "metadata": {
        "colab": {
          "base_uri": "https://localhost:8080/"
        },
        "id": "lxenUfC9Su4s",
        "outputId": "07eed438-5f15-41d5-e45c-e060ac69cce7"
      },
      "execution_count": 118,
      "outputs": [
        {
          "output_type": "execute_result",
          "data": {
            "text/plain": [
              "<tf.Tensor: shape=(224, 224, 3), dtype=float64, numpy=\n",
              "array([[[0.33860866, 0.76751397, 0.47649729],\n",
              "        [0.05276046, 0.89165039, 0.05936972],\n",
              "        [0.91852992, 0.52026701, 0.99875695],\n",
              "        ...,\n",
              "        [0.66335249, 0.05634869, 0.30456826],\n",
              "        [0.92075267, 0.78457769, 0.71677864],\n",
              "        [0.30298054, 0.69069352, 0.09112368]],\n",
              "\n",
              "       [[0.43436313, 0.72503526, 0.55665877],\n",
              "        [0.72779296, 0.80755053, 0.35781926],\n",
              "        [0.0569049 , 0.75585964, 0.52272987],\n",
              "        ...,\n",
              "        [0.52986911, 0.16633467, 0.1795951 ],\n",
              "        [0.59404366, 0.48209264, 0.92210194],\n",
              "        [0.73061808, 0.06593687, 0.67182706]],\n",
              "\n",
              "       [[0.16847947, 0.57261303, 0.2999235 ],\n",
              "        [0.35691859, 0.95645331, 0.85402319],\n",
              "        [0.39333117, 0.47114745, 0.67164236],\n",
              "        ...,\n",
              "        [0.34223942, 0.11885593, 0.44595888],\n",
              "        [0.66985282, 0.81171434, 0.92861354],\n",
              "        [0.5168865 , 0.80278587, 0.02884437]],\n",
              "\n",
              "       ...,\n",
              "\n",
              "       [[0.59145048, 0.65049515, 0.30914135],\n",
              "        [0.93631529, 0.71582734, 0.80575423],\n",
              "        [0.88361583, 0.49268121, 0.3458826 ],\n",
              "        ...,\n",
              "        [0.494701  , 0.13645405, 0.46935773],\n",
              "        [0.37484201, 0.96992067, 0.80429103],\n",
              "        [0.85825946, 0.61264038, 0.97085933]],\n",
              "\n",
              "       [[0.33834336, 0.98661833, 0.86461562],\n",
              "        [0.57122322, 0.19164784, 0.90944032],\n",
              "        [0.11832722, 0.46358166, 0.78021111],\n",
              "        ...,\n",
              "        [0.57450768, 0.08541219, 0.60852397],\n",
              "        [0.98877365, 0.43912445, 0.18526177],\n",
              "        [0.41018863, 0.4824554 , 0.04847201]],\n",
              "\n",
              "       [[0.79980796, 0.60664311, 0.59828001],\n",
              "        [0.29987256, 0.90460265, 0.72738925],\n",
              "        [0.48813267, 0.30921991, 0.78010133],\n",
              "        ...,\n",
              "        [0.55726928, 0.36358184, 0.32503981],\n",
              "        [0.15215441, 0.80891971, 0.55999014],\n",
              "        [0.12130222, 0.66322158, 0.63051983]]])>"
            ]
          },
          "metadata": {},
          "execution_count": 118
        }
      ]
    },
    {
      "cell_type": "markdown",
      "source": [
        "Find the min and max values of the tensor you created in 6 along the first axis.\n"
      ],
      "metadata": {
        "id": "_YjfTK3ySdhJ"
      }
    },
    {
      "cell_type": "code",
      "source": [
        "tf.reduce_min(t3, axis=0)"
      ],
      "metadata": {
        "colab": {
          "base_uri": "https://localhost:8080/"
        },
        "id": "E0VNVUScSvPs",
        "outputId": "9224e5c7-88f8-4a89-a20d-fc2dfbf83bf9"
      },
      "execution_count": 120,
      "outputs": [
        {
          "output_type": "execute_result",
          "data": {
            "text/plain": [
              "<tf.Tensor: shape=(224, 3), dtype=float64, numpy=\n",
              "array([[4.89708357e-04, 7.58617176e-06, 2.12716270e-03],\n",
              "       [1.11942186e-03, 1.55023928e-02, 9.07325778e-06],\n",
              "       [4.33117540e-04, 5.18672360e-03, 9.15782377e-04],\n",
              "       [2.07514728e-03, 1.44803793e-03, 6.76357245e-03],\n",
              "       [6.64364939e-03, 3.94495128e-03, 1.90062972e-03],\n",
              "       [4.71815357e-03, 4.49586598e-03, 2.10073755e-03],\n",
              "       [7.42607745e-03, 6.70882467e-03, 1.01286277e-03],\n",
              "       [8.65545966e-03, 8.67872462e-05, 2.30400982e-03],\n",
              "       [1.11601989e-02, 2.81606152e-02, 1.00656195e-02],\n",
              "       [1.34358659e-03, 9.60090552e-04, 4.01331928e-03],\n",
              "       [6.95352048e-03, 5.03847917e-04, 4.62376095e-04],\n",
              "       [4.68539521e-04, 4.21808442e-03, 5.57394780e-03],\n",
              "       [3.34467466e-03, 1.38447221e-03, 1.92517166e-03],\n",
              "       [3.41944161e-04, 4.02002884e-03, 4.66754875e-03],\n",
              "       [1.04442158e-03, 2.25123735e-03, 8.79051032e-03],\n",
              "       [1.57851774e-03, 3.17644994e-03, 2.27312130e-03],\n",
              "       [6.10752975e-03, 2.18570821e-03, 3.55357552e-03],\n",
              "       [2.93575668e-03, 4.64676152e-04, 2.94455190e-03],\n",
              "       [5.69665561e-04, 6.92452152e-03, 7.15280555e-03],\n",
              "       [1.23822154e-03, 3.73332275e-03, 1.59658949e-03],\n",
              "       [2.41072026e-04, 7.29855407e-03, 6.71219358e-04],\n",
              "       [2.21997684e-03, 7.42528573e-03, 3.82411952e-03],\n",
              "       [6.30327973e-04, 1.50265177e-02, 2.33417237e-03],\n",
              "       [4.08969134e-03, 8.77443916e-04, 2.02046204e-03],\n",
              "       [1.41220946e-04, 1.30440060e-03, 8.06793849e-04],\n",
              "       [2.16255298e-04, 1.03634688e-02, 3.17021492e-03],\n",
              "       [4.46670950e-03, 4.34642723e-04, 8.37276504e-04],\n",
              "       [4.23859868e-03, 4.73181696e-03, 1.02122811e-02],\n",
              "       [9.96926006e-04, 6.95272840e-03, 1.71380907e-03],\n",
              "       [1.57425700e-03, 9.05468264e-03, 3.71172788e-03],\n",
              "       [5.96763272e-03, 1.20795785e-04, 3.38047207e-03],\n",
              "       [3.18576226e-03, 3.06287722e-03, 3.11137756e-03],\n",
              "       [7.53372509e-03, 9.01003687e-04, 5.84858411e-03],\n",
              "       [7.88347152e-04, 4.49609747e-03, 8.27065752e-04],\n",
              "       [2.62042472e-03, 5.75057808e-04, 2.19619830e-04],\n",
              "       [2.26396836e-03, 5.04243440e-04, 2.80638405e-03],\n",
              "       [4.83810436e-03, 6.29395115e-03, 1.25583711e-03],\n",
              "       [7.54010089e-03, 2.06067653e-03, 6.48875194e-03],\n",
              "       [3.61168386e-05, 7.39475713e-03, 7.99762655e-03],\n",
              "       [1.28179279e-03, 9.64474274e-03, 4.72255316e-03],\n",
              "       [2.31862846e-03, 1.70917559e-04, 5.55521114e-03],\n",
              "       [5.61583064e-03, 5.77096051e-03, 2.62648087e-03],\n",
              "       [3.59036175e-03, 1.03743753e-02, 9.58470071e-03],\n",
              "       [1.14305042e-02, 6.56539526e-03, 1.07792178e-02],\n",
              "       [6.36203787e-03, 1.61283188e-03, 4.62844186e-04],\n",
              "       [9.04024240e-03, 2.78480670e-03, 1.85589317e-03],\n",
              "       [3.04640591e-04, 1.05301309e-02, 4.66435453e-04],\n",
              "       [7.38497550e-04, 1.69747102e-03, 6.17508135e-03],\n",
              "       [4.08141922e-03, 7.59988093e-03, 4.05055253e-03],\n",
              "       [9.10827760e-04, 7.15526135e-03, 9.10683654e-03],\n",
              "       [1.72042755e-02, 5.76777438e-04, 7.88125762e-03],\n",
              "       [9.50463965e-03, 5.96709376e-03, 5.46697742e-04],\n",
              "       [9.95761967e-03, 2.83450693e-04, 1.97588023e-02],\n",
              "       [7.97625407e-04, 9.10216672e-04, 3.98822297e-04],\n",
              "       [2.95370510e-03, 1.80693136e-02, 8.61216293e-05],\n",
              "       [2.57886378e-03, 9.93175332e-03, 5.85572578e-03],\n",
              "       [4.27963392e-03, 5.66847581e-03, 3.11066287e-03],\n",
              "       [4.11493156e-03, 2.30766277e-03, 1.01986340e-02],\n",
              "       [3.92808384e-03, 2.00225962e-03, 5.14005570e-03],\n",
              "       [2.72197546e-03, 2.65602680e-03, 7.23531444e-03],\n",
              "       [3.68656054e-04, 1.08796017e-03, 2.19037547e-03],\n",
              "       [1.40841502e-03, 4.77747104e-03, 1.09037803e-03],\n",
              "       [6.37513424e-04, 1.20425652e-03, 9.75208994e-03],\n",
              "       [2.47440138e-03, 2.98740307e-03, 6.44246872e-03],\n",
              "       [3.41671783e-04, 4.92636557e-03, 6.28111000e-03],\n",
              "       [2.31361670e-03, 2.71004701e-03, 2.68263554e-03],\n",
              "       [4.04112075e-03, 1.07847518e-02, 2.61877092e-03],\n",
              "       [6.95198126e-03, 5.28679054e-03, 7.30415957e-03],\n",
              "       [1.27645248e-03, 3.02634384e-03, 1.35393350e-02],\n",
              "       [1.38353678e-02, 6.95811892e-03, 5.42946845e-03],\n",
              "       [4.98038315e-03, 1.13977866e-02, 3.04071413e-03],\n",
              "       [2.25558816e-03, 2.75732570e-03, 7.40804166e-04],\n",
              "       [3.89832372e-03, 2.42043278e-03, 3.83059103e-03],\n",
              "       [7.09777280e-04, 1.98045212e-04, 9.01045559e-04],\n",
              "       [1.93502995e-03, 1.57275548e-03, 8.50156204e-05],\n",
              "       [8.83357696e-03, 1.41820256e-03, 1.01814171e-02],\n",
              "       [1.10667242e-03, 5.67366009e-03, 1.03615620e-02],\n",
              "       [2.55026938e-03, 6.41461610e-03, 2.34837143e-03],\n",
              "       [5.41631259e-03, 5.68248867e-04, 1.36785434e-03],\n",
              "       [1.11001450e-03, 4.01065168e-03, 1.61907152e-03],\n",
              "       [3.86280029e-03, 4.25027725e-03, 1.29129289e-03],\n",
              "       [2.58477791e-02, 5.63114521e-05, 1.10995825e-03],\n",
              "       [8.39245316e-04, 2.09606035e-03, 8.13957900e-03],\n",
              "       [3.84061218e-03, 4.36902908e-03, 5.02614835e-05],\n",
              "       [9.15853901e-04, 4.53316746e-04, 4.01136073e-03],\n",
              "       [2.53198097e-03, 6.63217618e-03, 5.26634542e-03],\n",
              "       [1.68903445e-03, 2.36111979e-03, 2.36114607e-03],\n",
              "       [1.06672444e-02, 5.59434040e-04, 7.86126064e-03],\n",
              "       [2.37997075e-03, 6.86367776e-03, 1.18113649e-02],\n",
              "       [2.69035930e-03, 2.28938531e-03, 2.82662920e-05],\n",
              "       [9.38245060e-03, 4.77149942e-03, 1.76876563e-03],\n",
              "       [8.00516355e-04, 1.23033795e-03, 2.84013513e-03],\n",
              "       [2.14270874e-04, 6.58195694e-03, 6.25623135e-03],\n",
              "       [1.02632470e-02, 1.87256186e-02, 2.31561536e-02],\n",
              "       [1.76358238e-03, 1.62942054e-02, 9.47367026e-04],\n",
              "       [1.33417533e-02, 6.98447541e-03, 7.76605445e-03],\n",
              "       [3.57202088e-03, 2.43327614e-03, 1.88244790e-03],\n",
              "       [4.07147307e-03, 5.29455103e-03, 8.25094408e-03],\n",
              "       [4.60611018e-04, 6.32530698e-03, 7.62214750e-04],\n",
              "       [2.97518429e-03, 1.77889955e-02, 2.77815581e-03],\n",
              "       [9.67250199e-05, 3.74443852e-03, 5.74164014e-03],\n",
              "       [3.12028264e-03, 3.68338393e-03, 6.63483685e-03],\n",
              "       [1.20337377e-03, 3.28705988e-03, 3.26111832e-02],\n",
              "       [6.63173018e-03, 1.49863674e-02, 1.93650652e-03],\n",
              "       [3.44891839e-03, 1.02059684e-04, 6.34754289e-04],\n",
              "       [2.81409835e-03, 9.61594612e-03, 9.98387155e-03],\n",
              "       [2.44357534e-03, 5.71848675e-03, 3.46082064e-03],\n",
              "       [3.07505071e-02, 6.88713476e-04, 7.60137975e-03],\n",
              "       [7.25558379e-03, 1.32916944e-02, 3.27446886e-03],\n",
              "       [2.60561714e-03, 1.38372175e-03, 4.65555970e-03],\n",
              "       [7.14661092e-05, 7.16026034e-03, 7.31368566e-03],\n",
              "       [3.53166081e-04, 5.32606065e-03, 5.76729482e-03],\n",
              "       [1.03277335e-02, 1.27723860e-04, 2.68227133e-03],\n",
              "       [3.11453714e-03, 8.78724108e-04, 2.14841446e-03],\n",
              "       [4.29054271e-03, 7.72729351e-03, 1.19141389e-03],\n",
              "       [1.04590133e-03, 1.24352916e-02, 3.06128571e-03],\n",
              "       [6.79980346e-03, 4.42359300e-04, 8.03521190e-03],\n",
              "       [2.27100432e-03, 4.37466035e-03, 6.52163823e-04],\n",
              "       [5.03179559e-03, 2.61425459e-03, 2.97610743e-03],\n",
              "       [4.13100529e-03, 1.52623731e-03, 1.13558150e-02],\n",
              "       [5.96987802e-04, 1.28787846e-02, 4.22258819e-03],\n",
              "       [4.65761022e-03, 6.74047002e-03, 5.54827534e-04],\n",
              "       [2.58157987e-03, 6.17198385e-03, 8.20960593e-04],\n",
              "       [1.31983368e-02, 7.14861291e-04, 8.67162236e-04],\n",
              "       [1.88295014e-03, 6.91114267e-03, 1.05159168e-02],\n",
              "       [3.65472527e-03, 4.54498483e-03, 3.55963316e-03],\n",
              "       [2.90148860e-03, 6.01636407e-03, 4.77923336e-03],\n",
              "       [2.37239515e-03, 3.39637823e-03, 9.47654811e-03],\n",
              "       [6.22282862e-03, 4.49371051e-04, 2.75143724e-03],\n",
              "       [2.52238758e-03, 1.68978267e-03, 4.47854850e-03],\n",
              "       [5.70359578e-03, 6.64641933e-03, 1.79986316e-03],\n",
              "       [8.90570552e-03, 4.35758319e-03, 1.28770588e-05],\n",
              "       [3.46786562e-03, 3.34444510e-03, 1.93895200e-03],\n",
              "       [1.57138535e-04, 1.03443325e-03, 1.49540973e-02],\n",
              "       [7.47558000e-04, 2.19955324e-03, 2.64453185e-03],\n",
              "       [1.32119862e-03, 2.01404582e-03, 6.54367196e-04],\n",
              "       [7.81623544e-03, 5.23638521e-03, 2.20680838e-04],\n",
              "       [3.71130643e-04, 4.94623794e-04, 8.34655847e-03],\n",
              "       [8.74106701e-03, 5.02331417e-04, 6.71070886e-03],\n",
              "       [2.58856053e-03, 2.29290729e-02, 1.20613911e-03],\n",
              "       [2.46842779e-03, 6.87797457e-03, 1.85821811e-03],\n",
              "       [2.63346870e-03, 2.23149257e-03, 8.84175180e-03],\n",
              "       [2.70099944e-03, 4.58504154e-05, 5.54678775e-03],\n",
              "       [1.03530263e-02, 7.42721855e-03, 3.03387984e-03],\n",
              "       [2.53030617e-03, 2.15260840e-03, 5.26908719e-03],\n",
              "       [5.98298788e-04, 1.06179243e-02, 1.70042014e-03],\n",
              "       [2.03987008e-03, 5.36438240e-03, 5.22753417e-03],\n",
              "       [1.15466684e-02, 2.00200186e-03, 2.19240333e-03],\n",
              "       [5.30452181e-03, 1.24726212e-03, 4.89054117e-03],\n",
              "       [5.58169273e-03, 1.68368578e-03, 2.73313954e-03],\n",
              "       [1.63976876e-02, 1.59261660e-03, 1.26729819e-02],\n",
              "       [1.09047650e-03, 7.17842176e-03, 1.31721062e-03],\n",
              "       [3.23590739e-03, 1.18002648e-03, 4.55821257e-03],\n",
              "       [2.29123591e-03, 1.29705362e-03, 1.71575511e-03],\n",
              "       [1.41425339e-03, 2.52957608e-04, 3.83873627e-04],\n",
              "       [2.83058104e-03, 3.69180199e-03, 3.98395383e-04],\n",
              "       [2.94464347e-04, 3.50271985e-03, 3.91256785e-04],\n",
              "       [1.72657785e-03, 5.28237484e-03, 7.94113155e-03],\n",
              "       [8.97863112e-03, 4.53558021e-03, 1.27352774e-03],\n",
              "       [2.12900025e-04, 1.14798468e-03, 5.91377753e-03],\n",
              "       [1.24024760e-03, 5.34253188e-03, 3.23555777e-03],\n",
              "       [4.07433696e-03, 4.34148998e-03, 5.39267354e-04],\n",
              "       [9.15100898e-03, 2.05014494e-03, 3.81618688e-03],\n",
              "       [8.47869006e-04, 8.94005722e-03, 6.28236421e-05],\n",
              "       [2.38400828e-03, 1.49645999e-02, 1.86011496e-02],\n",
              "       [8.12512523e-03, 8.69276480e-03, 2.35468204e-03],\n",
              "       [2.91886678e-03, 5.38903989e-03, 1.40728193e-02],\n",
              "       [2.13788705e-03, 2.94370258e-03, 1.35324499e-04],\n",
              "       [3.17236224e-03, 1.31346375e-03, 1.57547537e-02],\n",
              "       [7.36038640e-03, 2.14216158e-03, 3.98173292e-03],\n",
              "       [3.41327167e-03, 1.52052921e-03, 4.20846066e-03],\n",
              "       [1.27219286e-03, 1.04572460e-03, 1.41047396e-03],\n",
              "       [3.55318618e-03, 1.09964596e-02, 5.49548351e-03],\n",
              "       [7.13927463e-04, 1.96247981e-04, 9.51574007e-03],\n",
              "       [8.05669808e-03, 4.64337550e-03, 3.93425920e-03],\n",
              "       [1.67337641e-03, 2.63304257e-03, 5.36610995e-03],\n",
              "       [5.45844553e-04, 7.23215075e-03, 4.69538329e-03],\n",
              "       [1.02645474e-02, 1.28792614e-02, 2.06049397e-02],\n",
              "       [7.56355102e-03, 3.47042086e-03, 1.51539074e-03],\n",
              "       [1.29379888e-04, 1.90418274e-03, 3.09224246e-03],\n",
              "       [2.14543664e-03, 4.54286223e-03, 1.00341306e-03],\n",
              "       [7.00938632e-03, 4.27085040e-03, 1.20660904e-03],\n",
              "       [1.12710244e-02, 1.75843692e-05, 7.36699274e-03],\n",
              "       [2.64929136e-03, 1.89849280e-03, 7.77052936e-03],\n",
              "       [5.38926363e-03, 7.71922918e-03, 9.18029617e-03],\n",
              "       [9.24613902e-04, 6.86416801e-03, 3.16746576e-03],\n",
              "       [1.89691646e-02, 1.21987720e-03, 1.27235255e-03],\n",
              "       [2.98111292e-03, 3.64670464e-03, 3.51865784e-03],\n",
              "       [6.47327918e-03, 5.95100089e-04, 1.96278628e-03],\n",
              "       [3.60050766e-03, 3.10615105e-03, 1.00926521e-02],\n",
              "       [3.14797332e-03, 6.29278181e-03, 4.57858898e-04],\n",
              "       [2.40744913e-03, 6.92413233e-03, 1.40852017e-03],\n",
              "       [8.55287018e-03, 3.37326560e-03, 2.27945054e-03],\n",
              "       [4.34297846e-03, 1.09987545e-03, 4.93515466e-03],\n",
              "       [2.22721503e-02, 1.20770749e-03, 5.34438502e-03],\n",
              "       [1.90718415e-03, 2.61480108e-03, 1.84137197e-03],\n",
              "       [1.70195810e-03, 4.90675408e-03, 8.58459428e-03],\n",
              "       [1.91137744e-04, 9.99227085e-04, 8.01813259e-03],\n",
              "       [1.64383649e-03, 5.59938454e-03, 1.00894631e-02],\n",
              "       [2.92596254e-03, 2.63424247e-03, 1.01520930e-02],\n",
              "       [3.90735061e-05, 1.32137156e-03, 1.91584842e-03],\n",
              "       [2.23961156e-03, 8.11971933e-03, 1.60076875e-03],\n",
              "       [1.78948040e-03, 1.03643461e-03, 1.55026066e-02],\n",
              "       [4.15729642e-04, 1.36573897e-03, 1.80405905e-04],\n",
              "       [7.39415281e-03, 1.19735171e-03, 2.90409427e-04],\n",
              "       [1.09951415e-03, 1.27735635e-03, 1.50124059e-03],\n",
              "       [1.04103841e-03, 1.00493513e-04, 2.99540769e-03],\n",
              "       [1.39816338e-02, 4.62465352e-03, 2.62601402e-03],\n",
              "       [1.35792377e-03, 5.19082347e-03, 9.03609967e-03],\n",
              "       [4.76889705e-03, 5.19021678e-03, 5.10421689e-03],\n",
              "       [1.01001750e-03, 1.17724234e-03, 6.74379580e-03],\n",
              "       [4.79646616e-03, 2.26744917e-03, 7.01177018e-03],\n",
              "       [1.92000625e-02, 3.14186777e-03, 1.44905879e-02],\n",
              "       [7.10559865e-03, 8.12898878e-03, 1.70530814e-03],\n",
              "       [9.96390085e-03, 3.33502769e-03, 1.44550211e-02],\n",
              "       [1.38838904e-02, 3.04976682e-04, 1.12612242e-03],\n",
              "       [1.81860768e-03, 5.75804121e-03, 6.18484805e-03],\n",
              "       [8.33692547e-04, 7.83966201e-03, 7.56980305e-03],\n",
              "       [6.39532789e-04, 9.60851009e-03, 4.20031271e-03],\n",
              "       [1.77368655e-04, 4.59875316e-03, 9.60176056e-03],\n",
              "       [5.67645859e-03, 9.56514770e-04, 7.70419555e-03],\n",
              "       [4.05196523e-03, 1.85585747e-03, 1.52110070e-03],\n",
              "       [6.72864082e-03, 4.34783668e-03, 4.25873015e-03],\n",
              "       [1.93572213e-03, 3.83636140e-06, 4.21857524e-03]])>"
            ]
          },
          "metadata": {},
          "execution_count": 120
        }
      ]
    },
    {
      "cell_type": "markdown",
      "source": [
        "Created a tensor with random values of shape [1, 224, 224, 3] then squeeze it to change the shape to [224, 224, 3].\n"
      ],
      "metadata": {
        "id": "t4yGouPPSnp4"
      }
    },
    {
      "cell_type": "code",
      "source": [
        "t4 = tf.constant(np.random.uniform(0, 1, size=(224*224*3)))\n",
        "\n",
        "t4 = tf.reshape(t4, [1,224,224,3])\n",
        "\n",
        "t4"
      ],
      "metadata": {
        "colab": {
          "base_uri": "https://localhost:8080/"
        },
        "id": "iNaBGf1CSvxU",
        "outputId": "9340f050-ff79-41d1-dceb-5b951aaaa938"
      },
      "execution_count": 123,
      "outputs": [
        {
          "output_type": "execute_result",
          "data": {
            "text/plain": [
              "<tf.Tensor: shape=(1, 224, 224, 3), dtype=float64, numpy=\n",
              "array([[[[0.84707315, 0.67472123, 0.53998831],\n",
              "         [0.00713127, 0.14934342, 0.32222015],\n",
              "         [0.03669624, 0.21105728, 0.40607258],\n",
              "         ...,\n",
              "         [0.98769049, 0.59754636, 0.85270077],\n",
              "         [0.90356277, 0.35295527, 0.9844377 ],\n",
              "         [0.54279884, 0.66262427, 0.24759086]],\n",
              "\n",
              "        [[0.80084436, 0.91648801, 0.73643194],\n",
              "         [0.44622449, 0.10953846, 0.8691697 ],\n",
              "         [0.2078697 , 0.90581855, 0.21092262],\n",
              "         ...,\n",
              "         [0.00336177, 0.09879137, 0.76299332],\n",
              "         [0.72009028, 0.52350525, 0.94439538],\n",
              "         [0.06954703, 0.36685526, 0.04794614]],\n",
              "\n",
              "        [[0.40085888, 0.29727669, 0.82230264],\n",
              "         [0.79033936, 0.17027979, 0.84904176],\n",
              "         [0.51613769, 0.53156903, 0.63677309],\n",
              "         ...,\n",
              "         [0.23559194, 0.36665993, 0.68625788],\n",
              "         [0.59992262, 0.26135936, 0.00238071],\n",
              "         [0.78215418, 0.52163493, 0.24711236]],\n",
              "\n",
              "        ...,\n",
              "\n",
              "        [[0.79552347, 0.15002294, 0.83939525],\n",
              "         [0.11444364, 0.47460772, 0.57464335],\n",
              "         [0.57297988, 0.90650784, 0.02208643],\n",
              "         ...,\n",
              "         [0.83369848, 0.99607118, 0.35054042],\n",
              "         [0.70935904, 0.39838376, 0.57815692],\n",
              "         [0.99824501, 0.24011364, 0.38129983]],\n",
              "\n",
              "        [[0.83507535, 0.66989664, 0.91571151],\n",
              "         [0.70976495, 0.37345392, 0.49568128],\n",
              "         [0.63683976, 0.15094638, 0.53237686],\n",
              "         ...,\n",
              "         [0.90083698, 0.24102279, 0.62145018],\n",
              "         [0.72386487, 0.21435905, 0.74450439],\n",
              "         [0.26922997, 0.25277921, 0.63147796]],\n",
              "\n",
              "        [[0.28369321, 0.62207885, 0.31460653],\n",
              "         [0.08936337, 0.53711394, 0.62992601],\n",
              "         [0.92930127, 0.34681057, 0.33287437],\n",
              "         ...,\n",
              "         [0.88777724, 0.30348502, 0.95643041],\n",
              "         [0.05107222, 0.37696601, 0.77044015],\n",
              "         [0.62700443, 0.59313548, 0.20431496]]]])>"
            ]
          },
          "metadata": {},
          "execution_count": 123
        }
      ]
    },
    {
      "cell_type": "code",
      "source": [
        "t4_squeezed = tf.squeeze(t4)\n",
        "t4_squeezed"
      ],
      "metadata": {
        "colab": {
          "base_uri": "https://localhost:8080/"
        },
        "id": "LtVhsGPsUix7",
        "outputId": "6dd9a4db-ba4a-4b00-ca63-1de0b1ad45f2"
      },
      "execution_count": 124,
      "outputs": [
        {
          "output_type": "execute_result",
          "data": {
            "text/plain": [
              "<tf.Tensor: shape=(224, 224, 3), dtype=float64, numpy=\n",
              "array([[[0.84707315, 0.67472123, 0.53998831],\n",
              "        [0.00713127, 0.14934342, 0.32222015],\n",
              "        [0.03669624, 0.21105728, 0.40607258],\n",
              "        ...,\n",
              "        [0.98769049, 0.59754636, 0.85270077],\n",
              "        [0.90356277, 0.35295527, 0.9844377 ],\n",
              "        [0.54279884, 0.66262427, 0.24759086]],\n",
              "\n",
              "       [[0.80084436, 0.91648801, 0.73643194],\n",
              "        [0.44622449, 0.10953846, 0.8691697 ],\n",
              "        [0.2078697 , 0.90581855, 0.21092262],\n",
              "        ...,\n",
              "        [0.00336177, 0.09879137, 0.76299332],\n",
              "        [0.72009028, 0.52350525, 0.94439538],\n",
              "        [0.06954703, 0.36685526, 0.04794614]],\n",
              "\n",
              "       [[0.40085888, 0.29727669, 0.82230264],\n",
              "        [0.79033936, 0.17027979, 0.84904176],\n",
              "        [0.51613769, 0.53156903, 0.63677309],\n",
              "        ...,\n",
              "        [0.23559194, 0.36665993, 0.68625788],\n",
              "        [0.59992262, 0.26135936, 0.00238071],\n",
              "        [0.78215418, 0.52163493, 0.24711236]],\n",
              "\n",
              "       ...,\n",
              "\n",
              "       [[0.79552347, 0.15002294, 0.83939525],\n",
              "        [0.11444364, 0.47460772, 0.57464335],\n",
              "        [0.57297988, 0.90650784, 0.02208643],\n",
              "        ...,\n",
              "        [0.83369848, 0.99607118, 0.35054042],\n",
              "        [0.70935904, 0.39838376, 0.57815692],\n",
              "        [0.99824501, 0.24011364, 0.38129983]],\n",
              "\n",
              "       [[0.83507535, 0.66989664, 0.91571151],\n",
              "        [0.70976495, 0.37345392, 0.49568128],\n",
              "        [0.63683976, 0.15094638, 0.53237686],\n",
              "        ...,\n",
              "        [0.90083698, 0.24102279, 0.62145018],\n",
              "        [0.72386487, 0.21435905, 0.74450439],\n",
              "        [0.26922997, 0.25277921, 0.63147796]],\n",
              "\n",
              "       [[0.28369321, 0.62207885, 0.31460653],\n",
              "        [0.08936337, 0.53711394, 0.62992601],\n",
              "        [0.92930127, 0.34681057, 0.33287437],\n",
              "        ...,\n",
              "        [0.88777724, 0.30348502, 0.95643041],\n",
              "        [0.05107222, 0.37696601, 0.77044015],\n",
              "        [0.62700443, 0.59313548, 0.20431496]]])>"
            ]
          },
          "metadata": {},
          "execution_count": 124
        }
      ]
    },
    {
      "cell_type": "markdown",
      "source": [
        "Create a tensor with shape [10] using your own choice of values, then find the index which has the maximum value.\n"
      ],
      "metadata": {
        "id": "LpvVamVUSnts"
      }
    },
    {
      "cell_type": "code",
      "source": [
        "t5 = tf.constant([1,2,3,4,4,6,7,3,2,7])\n",
        "tf.reduce_max(t5)"
      ],
      "metadata": {
        "colab": {
          "base_uri": "https://localhost:8080/"
        },
        "id": "N0YAkNgISwL8",
        "outputId": "cbae36bb-9675-4020-df0c-c97b6b271bf3"
      },
      "execution_count": 127,
      "outputs": [
        {
          "output_type": "execute_result",
          "data": {
            "text/plain": [
              "<tf.Tensor: shape=(), dtype=int32, numpy=7>"
            ]
          },
          "metadata": {},
          "execution_count": 127
        }
      ]
    },
    {
      "cell_type": "markdown",
      "source": [
        "One-hot encode the tensor you created in 9."
      ],
      "metadata": {
        "id": "Bq8d8hU-Sn4o"
      }
    },
    {
      "cell_type": "code",
      "source": [
        "tf.one_hot(t5, depth=7)"
      ],
      "metadata": {
        "colab": {
          "base_uri": "https://localhost:8080/"
        },
        "id": "LCOkfflBSwpC",
        "outputId": "8256e2ab-2be0-47d5-ad26-6a60adc26cdb"
      },
      "execution_count": 128,
      "outputs": [
        {
          "output_type": "execute_result",
          "data": {
            "text/plain": [
              "<tf.Tensor: shape=(10, 7), dtype=float32, numpy=\n",
              "array([[0., 1., 0., 0., 0., 0., 0.],\n",
              "       [0., 0., 1., 0., 0., 0., 0.],\n",
              "       [0., 0., 0., 1., 0., 0., 0.],\n",
              "       [0., 0., 0., 0., 1., 0., 0.],\n",
              "       [0., 0., 0., 0., 1., 0., 0.],\n",
              "       [0., 0., 0., 0., 0., 0., 1.],\n",
              "       [0., 0., 0., 0., 0., 0., 0.],\n",
              "       [0., 0., 0., 1., 0., 0., 0.],\n",
              "       [0., 0., 1., 0., 0., 0., 0.],\n",
              "       [0., 0., 0., 0., 0., 0., 0.]], dtype=float32)>"
            ]
          },
          "metadata": {},
          "execution_count": 128
        }
      ]
    }
  ]
}